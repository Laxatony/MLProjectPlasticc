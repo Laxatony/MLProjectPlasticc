{
 "cells": [
  {
   "cell_type": "markdown",
   "metadata": {},
   "source": [
    "<p style=\"text-align: center;font-size: 60px;\">Stars</p>\n",
    "<br\\><br\\>\n",
    "PLAsTiCC Astronomical Classification<br/>\n",
    "https://www.kaggle.com/c/PLAsTiCC-2018"
   ]
  },
  {
   "cell_type": "markdown",
   "metadata": {},
   "source": [
    "1. Problem: Can we identify star's type based on observed information? \n",
    "2. Goal: Categorize star type based on their constant properties and light ratio changes in different passbands\n",
    "3. Evaluation"
   ]
  },
  {
   "cell_type": "code",
   "execution_count": 1,
   "metadata": {
    "collapsed": true
   },
   "outputs": [],
   "source": [
    "import numpy as np\n",
    "import pandas as pd\n",
    "import matplotlib.pyplot as plt\n",
    "%matplotlib inline"
   ]
  },
  {
   "cell_type": "markdown",
   "metadata": {},
   "source": [
    "## Load and Show Training Metadata"
   ]
  },
  {
   "cell_type": "code",
   "execution_count": 3,
   "metadata": {},
   "outputs": [
    {
     "name": "stdout",
     "output_type": "stream",
     "text": [
      "7848\n"
     ]
    },
    {
     "data": {
      "text/html": [
       "<div>\n",
       "<style>\n",
       "    .dataframe thead tr:only-child th {\n",
       "        text-align: right;\n",
       "    }\n",
       "\n",
       "    .dataframe thead th {\n",
       "        text-align: left;\n",
       "    }\n",
       "\n",
       "    .dataframe tbody tr th {\n",
       "        vertical-align: top;\n",
       "    }\n",
       "</style>\n",
       "<table border=\"1\" class=\"dataframe\">\n",
       "  <thead>\n",
       "    <tr style=\"text-align: right;\">\n",
       "      <th></th>\n",
       "      <th>object_id</th>\n",
       "      <th>ra</th>\n",
       "      <th>decl</th>\n",
       "      <th>gal_l</th>\n",
       "      <th>gal_b</th>\n",
       "      <th>ddf</th>\n",
       "      <th>hostgal_specz</th>\n",
       "      <th>hostgal_photoz</th>\n",
       "      <th>hostgal_photoz_err</th>\n",
       "      <th>distmod</th>\n",
       "      <th>mwebv</th>\n",
       "      <th>target</th>\n",
       "    </tr>\n",
       "  </thead>\n",
       "  <tbody>\n",
       "    <tr>\n",
       "      <th>0</th>\n",
       "      <td>615</td>\n",
       "      <td>349.046051</td>\n",
       "      <td>-61.943836</td>\n",
       "      <td>320.796530</td>\n",
       "      <td>-51.753706</td>\n",
       "      <td>1</td>\n",
       "      <td>0.0000</td>\n",
       "      <td>0.0000</td>\n",
       "      <td>0.0000</td>\n",
       "      <td>NaN</td>\n",
       "      <td>0.017</td>\n",
       "      <td>92</td>\n",
       "    </tr>\n",
       "    <tr>\n",
       "      <th>1</th>\n",
       "      <td>713</td>\n",
       "      <td>53.085938</td>\n",
       "      <td>-27.784405</td>\n",
       "      <td>223.525509</td>\n",
       "      <td>-54.460748</td>\n",
       "      <td>1</td>\n",
       "      <td>1.8181</td>\n",
       "      <td>1.6267</td>\n",
       "      <td>0.2552</td>\n",
       "      <td>45.4063</td>\n",
       "      <td>0.007</td>\n",
       "      <td>88</td>\n",
       "    </tr>\n",
       "    <tr>\n",
       "      <th>2</th>\n",
       "      <td>730</td>\n",
       "      <td>33.574219</td>\n",
       "      <td>-6.579593</td>\n",
       "      <td>170.455585</td>\n",
       "      <td>-61.548219</td>\n",
       "      <td>1</td>\n",
       "      <td>0.2320</td>\n",
       "      <td>0.2262</td>\n",
       "      <td>0.0157</td>\n",
       "      <td>40.2561</td>\n",
       "      <td>0.021</td>\n",
       "      <td>42</td>\n",
       "    </tr>\n",
       "    <tr>\n",
       "      <th>3</th>\n",
       "      <td>745</td>\n",
       "      <td>0.189873</td>\n",
       "      <td>-45.586655</td>\n",
       "      <td>328.254458</td>\n",
       "      <td>-68.969298</td>\n",
       "      <td>1</td>\n",
       "      <td>0.3037</td>\n",
       "      <td>0.2813</td>\n",
       "      <td>1.1523</td>\n",
       "      <td>40.7951</td>\n",
       "      <td>0.007</td>\n",
       "      <td>90</td>\n",
       "    </tr>\n",
       "    <tr>\n",
       "      <th>4</th>\n",
       "      <td>1124</td>\n",
       "      <td>352.711273</td>\n",
       "      <td>-63.823658</td>\n",
       "      <td>316.922299</td>\n",
       "      <td>-51.059403</td>\n",
       "      <td>1</td>\n",
       "      <td>0.1934</td>\n",
       "      <td>0.2415</td>\n",
       "      <td>0.0176</td>\n",
       "      <td>40.4166</td>\n",
       "      <td>0.024</td>\n",
       "      <td>90</td>\n",
       "    </tr>\n",
       "    <tr>\n",
       "      <th>5</th>\n",
       "      <td>1227</td>\n",
       "      <td>35.683594</td>\n",
       "      <td>-5.379379</td>\n",
       "      <td>171.992947</td>\n",
       "      <td>-59.253501</td>\n",
       "      <td>1</td>\n",
       "      <td>0.0000</td>\n",
       "      <td>0.0000</td>\n",
       "      <td>0.0000</td>\n",
       "      <td>NaN</td>\n",
       "      <td>0.020</td>\n",
       "      <td>65</td>\n",
       "    </tr>\n",
       "    <tr>\n",
       "      <th>6</th>\n",
       "      <td>1598</td>\n",
       "      <td>347.846710</td>\n",
       "      <td>-64.760857</td>\n",
       "      <td>318.929827</td>\n",
       "      <td>-49.143596</td>\n",
       "      <td>1</td>\n",
       "      <td>0.1352</td>\n",
       "      <td>0.1820</td>\n",
       "      <td>0.0304</td>\n",
       "      <td>39.7279</td>\n",
       "      <td>0.019</td>\n",
       "      <td>90</td>\n",
       "    </tr>\n",
       "    <tr>\n",
       "      <th>7</th>\n",
       "      <td>1632</td>\n",
       "      <td>348.595886</td>\n",
       "      <td>-63.072620</td>\n",
       "      <td>320.023289</td>\n",
       "      <td>-50.713060</td>\n",
       "      <td>1</td>\n",
       "      <td>0.6857</td>\n",
       "      <td>0.7014</td>\n",
       "      <td>0.0100</td>\n",
       "      <td>43.1524</td>\n",
       "      <td>0.021</td>\n",
       "      <td>42</td>\n",
       "    </tr>\n",
       "    <tr>\n",
       "      <th>8</th>\n",
       "      <td>1920</td>\n",
       "      <td>149.414062</td>\n",
       "      <td>3.433834</td>\n",
       "      <td>234.919132</td>\n",
       "      <td>42.245550</td>\n",
       "      <td>1</td>\n",
       "      <td>0.3088</td>\n",
       "      <td>0.3229</td>\n",
       "      <td>0.3360</td>\n",
       "      <td>41.1401</td>\n",
       "      <td>0.027</td>\n",
       "      <td>90</td>\n",
       "    </tr>\n",
       "    <tr>\n",
       "      <th>9</th>\n",
       "      <td>1926</td>\n",
       "      <td>149.414062</td>\n",
       "      <td>1.940072</td>\n",
       "      <td>236.565366</td>\n",
       "      <td>41.393323</td>\n",
       "      <td>1</td>\n",
       "      <td>0.0000</td>\n",
       "      <td>0.0000</td>\n",
       "      <td>0.0000</td>\n",
       "      <td>NaN</td>\n",
       "      <td>0.018</td>\n",
       "      <td>65</td>\n",
       "    </tr>\n",
       "  </tbody>\n",
       "</table>\n",
       "</div>"
      ],
      "text/plain": [
       "   object_id          ra       decl       gal_l      gal_b  ddf  \\\n",
       "0        615  349.046051 -61.943836  320.796530 -51.753706    1   \n",
       "1        713   53.085938 -27.784405  223.525509 -54.460748    1   \n",
       "2        730   33.574219  -6.579593  170.455585 -61.548219    1   \n",
       "3        745    0.189873 -45.586655  328.254458 -68.969298    1   \n",
       "4       1124  352.711273 -63.823658  316.922299 -51.059403    1   \n",
       "5       1227   35.683594  -5.379379  171.992947 -59.253501    1   \n",
       "6       1598  347.846710 -64.760857  318.929827 -49.143596    1   \n",
       "7       1632  348.595886 -63.072620  320.023289 -50.713060    1   \n",
       "8       1920  149.414062   3.433834  234.919132  42.245550    1   \n",
       "9       1926  149.414062   1.940072  236.565366  41.393323    1   \n",
       "\n",
       "   hostgal_specz  hostgal_photoz  hostgal_photoz_err  distmod  mwebv  target  \n",
       "0         0.0000          0.0000              0.0000      NaN  0.017      92  \n",
       "1         1.8181          1.6267              0.2552  45.4063  0.007      88  \n",
       "2         0.2320          0.2262              0.0157  40.2561  0.021      42  \n",
       "3         0.3037          0.2813              1.1523  40.7951  0.007      90  \n",
       "4         0.1934          0.2415              0.0176  40.4166  0.024      90  \n",
       "5         0.0000          0.0000              0.0000      NaN  0.020      65  \n",
       "6         0.1352          0.1820              0.0304  39.7279  0.019      90  \n",
       "7         0.6857          0.7014              0.0100  43.1524  0.021      42  \n",
       "8         0.3088          0.3229              0.3360  41.1401  0.027      90  \n",
       "9         0.0000          0.0000              0.0000      NaN  0.018      65  "
      ]
     },
     "execution_count": 3,
     "metadata": {},
     "output_type": "execute_result"
    }
   ],
   "source": [
    "# Load and Show Training Metatata\n",
    "# tm: train_metadata\n",
    "TM = pd.read_csv('training_set_metadata.csv')\n",
    "print(TM.shape[0])\n",
    "TM.sort_values(by=['object_id'], ascending=True).head(10)"
   ]
  },
  {
   "cell_type": "markdown",
   "metadata": {},
   "source": [
    "## For each target class, seperate data into training set(70%) and validataion set(30%)"
   ]
  },
  {
   "cell_type": "code",
   "execution_count": 4,
   "metadata": {
    "collapsed": true
   },
   "outputs": [],
   "source": [
    "def split_train_validation(df, validation_ratio):\n",
    "    ''' split data into train set and validation set for each target class'''\n",
    "    \n",
    "    train = pd.DataFrame(columns=df.columns)\n",
    "    validation = pd.DataFrame(columns=df.columns)\n",
    "    \n",
    "    targets = sorted(list(df['target'].unique()))\n",
    "    np.random.seed(4)\n",
    "    for target in targets:\n",
    "        sub_df = df[df['target']==target].sort_values(by=['object_id'])\n",
    "        \n",
    "        msk = np.random.rand(len(sub_df)) > validation_ratio\n",
    "        train = train.append(sub_df[msk], ignore_index=True)\n",
    "        validation = validation.append(sub_df[~msk], ignore_index=True)\n",
    "        \n",
    "    train.sort_values(by=['object_id'], inplace=True)\n",
    "    validation.sort_values(by=['object_id'], inplace=True)\n",
    "    return train.drop(['target'], axis=1), train[['target']], validation.drop(['target'], axis=1), validation[['target']]\n",
    "#     return train[train.columns.difference(['target'])], train.loc['target'], validation[validation.columns.difference(['target'])], validation.loc['target']\n"
   ]
  },
  {
   "cell_type": "code",
   "execution_count": 5,
   "metadata": {
    "collapsed": true
   },
   "outputs": [],
   "source": [
    "trainX, trainY, validationX, validationY = split_train_validation(df=TM, validation_ratio=0.3)\n",
    "if (trainX.shape[0] + validationX.shape[0]) != TM.shape[0]:\n",
    "    print(\"ERROR: data amount doesn't match\")"
   ]
  },
  {
   "cell_type": "code",
   "execution_count": 6,
   "metadata": {},
   "outputs": [
    {
     "name": "stdout",
     "output_type": "stream",
     "text": [
      "713\n",
      " 730\n",
      " 745\n",
      "1124\n",
      "2072\n",
      "2103\n",
      "2300\n",
      "2330\n",
      "2677\n",
      "2922 \n",
      "\n",
      "615\n",
      "1227\n",
      "1598\n",
      "1632\n",
      "1920\n",
      "1926\n",
      "2624\n",
      "3285\n",
      "4132\n",
      "4173\n"
     ]
    }
   ],
   "source": [
    "# .to_string(index=False) is for removing index\n",
    "print(trainX.head(10)['object_id'].to_string(index=False), '\\n')\n",
    "print(validationX.head(10)['object_id'].to_string(index=False))"
   ]
  },
  {
   "cell_type": "code",
   "execution_count": 8,
   "metadata": {
    "collapsed": true
   },
   "outputs": [],
   "source": [
    "## Show data distribution in each group\n",
    "def show_size(df, col):\n",
    "    print('Total amount of data:', df.shape[0])\n",
    "    grouped = df.groupby([col]).size()\n",
    "    \n",
    "    grouped.plot.bar()\n",
    "    plt.show()"
   ]
  },
  {
   "cell_type": "code",
   "execution_count": 10,
   "metadata": {},
   "outputs": [
    {
     "name": "stdout",
     "output_type": "stream",
     "text": [
      "Total amount of data: 5470\n"
     ]
    },
    {
     "data": {
      "image/png": "[encoded data removed]",
      "text/plain": [
       "<matplotlib.figure.Figure at 0x27ed4b720f0>"
      ]
     },
     "metadata": {},
     "output_type": "display_data"
    }
   ],
   "source": [
    "show_size(df=trainY, col='target')"
   ]
  },
  {
   "cell_type": "code",
   "execution_count": 11,
   "metadata": {},
   "outputs": [
    {
     "name": "stdout",
     "output_type": "stream",
     "text": [
      "Total amount of data: 2378\n"
     ]
    },
    {
     "data": {
      "image/png": "[encoded data removed]",
      "text/plain": [
       "<matplotlib.figure.Figure at 0x27ed4d5fba8>"
      ]
     },
     "metadata": {},
     "output_type": "display_data"
    }
   ],
   "source": [
    "show_size(df=validationY, col='target')"
   ]
  },
  {
   "cell_type": "code",
   "execution_count": null,
   "metadata": {
    "collapsed": true
   },
   "outputs": [],
   "source": [
    "# trainX.corr()\n",
    "# corr.style.background_gradient()"
   ]
  },
  {
   "cell_type": "code",
   "execution_count": 10,
   "metadata": {
    "collapsed": true
   },
   "outputs": [],
   "source": [
    "# result: trainX, trainY, validationX, validationY"
   ]
  }
 ],
 "metadata": {
  "kernelspec": {
   "display_name": "Python 3",
   "language": "python",
   "name": "python3"
  },
  "language_info": {
   "codemirror_mode": {
    "name": "ipython",
    "version": 3
   },
   "file_extension": ".py",
   "mimetype": "text/x-python",
   "name": "python",
   "nbconvert_exporter": "python",
   "pygments_lexer": "ipython3",
   "version": "3.6.2"
  }
 },
 "nbformat": 4,
 "nbformat_minor": 2
}
