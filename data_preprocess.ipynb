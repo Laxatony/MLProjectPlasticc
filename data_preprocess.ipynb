{
 "cells": [
  {
   "cell_type": "markdown",
   "metadata": {},
   "source": [
    "<p style=\"text-align: center;font-size: 60px;\">Stars</p>\n",
    "<br\\><br\\>\n",
    "PLAsTiCC Astronomical Classification<br/>\n",
    "https://www.kaggle.com/c/PLAsTiCC-2018"
   ]
  },
  {
   "cell_type": "markdown",
   "metadata": {},
   "source": [
    "1. Problem: Can we idnetify star's type based on observed information? \n",
    "2. Goal: Categorize star type based on their constant properties and light ratio changes in different passbands\n",
    "3. Evaluation"
   ]
  },
  {
   "cell_type": "code",
   "execution_count": 1,
   "metadata": {
    "collapsed": true
   },
   "outputs": [],
   "source": [
    "import numpy as np\n",
    "import pandas as pd\n",
    "import matplotlib.pyplot as plt\n",
    "# %matplotlib inline\n",
    "from random import shuffle\n",
    "import random\n",
    "import math\n",
    "import sys\n",
    "from sklearn.datasets import make_classification\n",
    "# from Logistic_Train import Logistic_Train"
   ]
  },
  {
   "cell_type": "markdown",
   "metadata": {},
   "source": [
    "## Load MetaData and TimeSeries Data--edit your file path here"
   ]
  },
  {
   "cell_type": "code",
   "execution_count": 3,
   "metadata": {},
   "outputs": [],
   "source": [
    "# Load and Show Training Metatata\n",
    "# tm: train_metadata\n",
    "TM = pd.read_csv('training_set_metadata.csv')\n",
    "# print(TM.shape[0])\n",
    "# TM.sort_values(by=['object_id'], ascending=True).head(10)\n",
    "TS=pd.read_csv('training_set.csv')\n",
    "# print(TS.shape[0])\n",
    "# TS.sort_values(by=['object_id'],ascending=True).head(10)"
   ]
  },
  {
   "cell_type": "code",
   "execution_count": 4,
   "metadata": {},
   "outputs": [
    {
     "data": {
      "text/html": [
       "<div>\n",
       "<style>\n",
       "    .dataframe thead tr:only-child th {\n",
       "        text-align: right;\n",
       "    }\n",
       "\n",
       "    .dataframe thead th {\n",
       "        text-align: left;\n",
       "    }\n",
       "\n",
       "    .dataframe tbody tr th {\n",
       "        vertical-align: top;\n",
       "    }\n",
       "</style>\n",
       "<table border=\"1\" class=\"dataframe\">\n",
       "  <thead>\n",
       "    <tr style=\"text-align: right;\">\n",
       "      <th></th>\n",
       "      <th>object_id</th>\n",
       "      <th>ra</th>\n",
       "      <th>decl</th>\n",
       "      <th>gal_l</th>\n",
       "      <th>gal_b</th>\n",
       "      <th>ddf</th>\n",
       "      <th>hostgal_specz</th>\n",
       "      <th>hostgal_photoz</th>\n",
       "      <th>hostgal_photoz_err</th>\n",
       "      <th>distmod</th>\n",
       "      <th>mwebv</th>\n",
       "      <th>target</th>\n",
       "    </tr>\n",
       "  </thead>\n",
       "  <tbody>\n",
       "    <tr>\n",
       "      <th>0</th>\n",
       "      <td>615</td>\n",
       "      <td>349.046051</td>\n",
       "      <td>-61.943836</td>\n",
       "      <td>320.796530</td>\n",
       "      <td>-51.753706</td>\n",
       "      <td>1</td>\n",
       "      <td>0.0000</td>\n",
       "      <td>0.0000</td>\n",
       "      <td>0.0000</td>\n",
       "      <td>NaN</td>\n",
       "      <td>0.017</td>\n",
       "      <td>92</td>\n",
       "    </tr>\n",
       "    <tr>\n",
       "      <th>1</th>\n",
       "      <td>713</td>\n",
       "      <td>53.085938</td>\n",
       "      <td>-27.784405</td>\n",
       "      <td>223.525509</td>\n",
       "      <td>-54.460748</td>\n",
       "      <td>1</td>\n",
       "      <td>1.8181</td>\n",
       "      <td>1.6267</td>\n",
       "      <td>0.2552</td>\n",
       "      <td>45.4063</td>\n",
       "      <td>0.007</td>\n",
       "      <td>88</td>\n",
       "    </tr>\n",
       "    <tr>\n",
       "      <th>2</th>\n",
       "      <td>730</td>\n",
       "      <td>33.574219</td>\n",
       "      <td>-6.579593</td>\n",
       "      <td>170.455585</td>\n",
       "      <td>-61.548219</td>\n",
       "      <td>1</td>\n",
       "      <td>0.2320</td>\n",
       "      <td>0.2262</td>\n",
       "      <td>0.0157</td>\n",
       "      <td>40.2561</td>\n",
       "      <td>0.021</td>\n",
       "      <td>42</td>\n",
       "    </tr>\n",
       "    <tr>\n",
       "      <th>3</th>\n",
       "      <td>745</td>\n",
       "      <td>0.189873</td>\n",
       "      <td>-45.586655</td>\n",
       "      <td>328.254458</td>\n",
       "      <td>-68.969298</td>\n",
       "      <td>1</td>\n",
       "      <td>0.3037</td>\n",
       "      <td>0.2813</td>\n",
       "      <td>1.1523</td>\n",
       "      <td>40.7951</td>\n",
       "      <td>0.007</td>\n",
       "      <td>90</td>\n",
       "    </tr>\n",
       "    <tr>\n",
       "      <th>4</th>\n",
       "      <td>1124</td>\n",
       "      <td>352.711273</td>\n",
       "      <td>-63.823658</td>\n",
       "      <td>316.922299</td>\n",
       "      <td>-51.059403</td>\n",
       "      <td>1</td>\n",
       "      <td>0.1934</td>\n",
       "      <td>0.2415</td>\n",
       "      <td>0.0176</td>\n",
       "      <td>40.4166</td>\n",
       "      <td>0.024</td>\n",
       "      <td>90</td>\n",
       "    </tr>\n",
       "  </tbody>\n",
       "</table>\n",
       "</div>"
      ],
      "text/plain": [
       "   object_id          ra       decl       gal_l      gal_b  ddf  \\\n",
       "0        615  349.046051 -61.943836  320.796530 -51.753706    1   \n",
       "1        713   53.085938 -27.784405  223.525509 -54.460748    1   \n",
       "2        730   33.574219  -6.579593  170.455585 -61.548219    1   \n",
       "3        745    0.189873 -45.586655  328.254458 -68.969298    1   \n",
       "4       1124  352.711273 -63.823658  316.922299 -51.059403    1   \n",
       "\n",
       "   hostgal_specz  hostgal_photoz  hostgal_photoz_err  distmod  mwebv  target  \n",
       "0         0.0000          0.0000              0.0000      NaN  0.017      92  \n",
       "1         1.8181          1.6267              0.2552  45.4063  0.007      88  \n",
       "2         0.2320          0.2262              0.0157  40.2561  0.021      42  \n",
       "3         0.3037          0.2813              1.1523  40.7951  0.007      90  \n",
       "4         0.1934          0.2415              0.0176  40.4166  0.024      90  "
      ]
     },
     "execution_count": 4,
     "metadata": {},
     "output_type": "execute_result"
    }
   ],
   "source": [
    "# len(TM.object_id.unique())\n",
    "# TM.sort_values(by=['object_id'], ascending=True).head(10)\n",
    "TM.head()"
   ]
  },
  {
   "cell_type": "markdown",
   "metadata": {},
   "source": [
    "## Preprocess Steps\n",
    "1. For target class in MetaData, divide trainging and testing by 70% and 30%\n",
    "1. For non-target class, use bootstrapping sampling method to generate training sample (non-selected)\n",
    "1. For the rest of them, join to testing dataset as non-target class\n",
    "1. For now there's no k-fold cross validation here\n",
    "1. For the target class in training dataset, choose some object_id, shows the time-series pattern to analyze possible featrues. Require to merge the training target into timesries data first."
   ]
  },
  {
   "cell_type": "code",
   "execution_count": 5,
   "metadata": {
    "collapsed": true
   },
   "outputs": [],
   "source": [
    "# get the distribution of each class first\n",
    "distribution={}\n",
    "for index, row in TM.iterrows():\n",
    "    target=row['target']\n",
    "    if target not in distribution:\n",
    "        distribution[target]={}\n",
    "        distribution[target]['member']=[]\n",
    "        distribution[target]['proportion']=0.0\n",
    "    distribution[target]['member'].append(row['object_id'])\n",
    "\n",
    "total_obj=len(TM.object_id.unique())\n",
    "for target in distribution:\n",
    "    sub_len=len(distribution[target]['member'])\n",
    "    distribution[target]['proportion']=sub_len/total_obj"
   ]
  },
  {
   "cell_type": "markdown",
   "metadata": {},
   "source": [
    "## For each target class, seperate data into training set(70%) and validataion set(30%)"
   ]
  },
  {
   "cell_type": "code",
   "execution_count": 6,
   "metadata": {
    "collapsed": true
   },
   "outputs": [],
   "source": [
    "def split_train_validation(df, validation_ratio,distribution,target):\n",
    "    ''' split data into train set and validation set for each target class'''\n",
    "    \n",
    "    train = pd.DataFrame(columns=df.columns)\n",
    "    validation = pd.DataFrame(columns=df.columns)\n",
    "    target_member=distribution[target]['member']\n",
    "    random.seed(4)\n",
    "    shuffle(target_member)\n",
    "    thres=len(target_member)*(1-validation_ratio)\n",
    "    for i in range(len(target_member)):\n",
    "        if i <= thres:\n",
    "            train=train.append(df[df['object_id']==target_member[i]],ignore_index=True)\n",
    "        else:\n",
    "            validation=validation.append(df[df['object_id']==target_member[i]],ignore_index=True)\n",
    "    # now for all other target class, extract training sample in the same distribution, with a total amount equal to \n",
    "    # target numbers which is thres\n",
    "#     print(len(train.object_id.unique()))\n",
    "#     print(len(validation.object_id.unique()))\n",
    "    for t in distribution:\n",
    "        if t!=target:\n",
    "            t_member=distribution[t]['member']\n",
    "            shuffle(t_member)\n",
    "            # for training dataset\n",
    "            sub_thres=thres*distribution[t]['proportion']\n",
    "            for i in range(len(t_member)):\n",
    "                if i <= sub_thres:\n",
    "                    train=train.append(df[df['object_id']==t_member[i]],ignore_index=True)\n",
    "                else:\n",
    "                    validation=validation.append(df[df['object_id']==t_member[i]],ignore_index=True)\n",
    "    \n",
    "    \n",
    "#     print(len(train.object_id.unique()))\n",
    "#     print(len(validation.object_id.unique()))\n",
    "    return train.drop(['ra','decl','gal_l','gal_b','ddf','hostgal_specz' ,'hostgal_photoz','hostgal_photoz_err','distmod','mwebv'],axis=1),\\\n",
    "validation.drop(['ra','decl','gal_l','gal_b','ddf','hostgal_specz','hostgal_photoz','hostgal_photoz_err','distmod','mwebv'],axis=1)\n"
   ]
  },
  {
   "cell_type": "code",
   "execution_count": 7,
   "metadata": {
    "collapsed": true
   },
   "outputs": [],
   "source": [
    "# change the target number as the last parameter\n",
    "mytrain, myval=split_train_validation(TM,0.3,distribution,90)"
   ]
  },
  {
   "cell_type": "code",
   "execution_count": 8,
   "metadata": {},
   "outputs": [],
   "source": [
    "# this part is for testing the distribution fit, you don't have to run this\n",
    "# test_dist={}\n",
    "# for index, row in mytrain.iterrows():\n",
    "#     target=row['target']\n",
    "#     if target not in test_dist:\n",
    "#         test_dist[target]={}\n",
    "#         test_dist[target]['member']=[]\n",
    "#         test_dist[target]['proportion']=0.0\n",
    "#     test_dist[target]['member'].append(row['object_id'])\n",
    "\n",
    "# mytotal_obj=len(mytrain.object_id.unique())/2\n",
    "# print(mytotal_obj)\n",
    "# for target in test_dist:\n",
    "#     sub_len=len(test_dist[target]['member'])\n",
    "#     test_dist[target]['proportion']=sub_len/mytotal_obj\n",
    "#     print(test_dist[target]['proportion'],\" \",distribution[target]['proportion'])\n",
    "# len(mytrain[mytrain['target']==90].object_id.unique())"
   ]
  },
  {
   "cell_type": "code",
   "execution_count": 9,
   "metadata": {
    "collapsed": true
   },
   "outputs": [],
   "source": [
    "# combine training dataset and validation dataset into time-series data, rename the variable as you want\n",
    "mytrain=pd.merge(mytrain,TS,how='inner',on=['object_id'])\n",
    "myval=pd.merge(myval,TS,how='inner',on=['object_id'])\n",
    "mytrain['time'] = (mytrain['mjd'] - 40587) * 86400\n",
    "import time\n",
    "mytrain['time2'] = mytrain['time'].apply(lambda x: time.ctime(x))\n",
    "mytrain=mytrain.drop(['time'],axis=1)"
   ]
  },
  {
   "cell_type": "code",
   "execution_count": 45,
   "metadata": {},
   "outputs": [
    {
     "name": "stdout",
     "output_type": "stream",
     "text": [
      "2770\n",
      "5078\n",
      "[90 92 88 42 65 16 67 95 62 15 52 6 64 53]\n"
     ]
    }
   ],
   "source": [
    "# you don't have to run this, this is for checking the result\n",
    "print(len(mytrain.object_id.unique()))\n",
    "print(len(myval.object_id.unique()))\n",
    "print(mytrain.target.unique())"
   ]
  },
  {
   "cell_type": "code",
   "execution_count": 46,
   "metadata": {},
   "outputs": [
    {
     "data": {
      "image/png": "[encoded data removed]",
      "text/plain": [
       "<matplotlib.figure.Figure at 0x220270d8630>"
      ]
     },
     "metadata": {},
     "output_type": "display_data"
    }
   ],
   "source": [
    "# now try to draw the pattern from time-series data, pick the first object from training dataset, \n",
    "# change the passband as you want\n",
    "#all_90=mytrain[mytrain['target']==90]\n",
    "all_65=mytrain[mytrain['target']==65]\n",
    "\n",
    "# passband 0 flux in range -30~+50, for 90% of the data, true/false\n",
    "# passband 1 flux in range -10~+100, or has a maximum very high from others, most of time is positive\n",
    "# passband 2 flux in range -10~+300, some very high max, most of time is positive\n",
    "# passband 3 flux, if not very high, the range is just around 30-40, not always positive\n",
    "# passband 4, very likely to have high max, and with many local max, relatively volatile\n",
    "# passband 5, some chance to have high max, and lox min, with many local max, relatively volatile\n",
    "# for i in all_90.object_id.unique():\n",
    "#     if mytrain_2[(mytrain_2['object_id']==i) & (mytrain_2['passband']==1)]['flux'].max()>200:\n",
    "#         print(i)\n",
    "#     print(mytrain_2[(mytrain_2['object_id']==i) & (mytrain_2['passband']==2)]['flux'].min())\n",
    "\n",
    "#randobj=all_90.object_id.unique()[2]\n",
    "#\n",
    "randobj=all_65.object_id.unique()[2]\n",
    "train_randobj_1=mytrain[(mytrain['object_id']==randobj) & (mytrain['passband']==3)]\n",
    "train_randobj_1.head()\n",
    "train_randobj_1.drop(['object_id','passband','flux_err','detected','target'],axis=1).plot(x='mjd',y='flux',kind='scatter')\n",
    "plt.show()"
   ]
  },
  {
   "cell_type": "code",
   "execution_count": 36,
   "metadata": {
    "collapsed": true
   },
   "outputs": [],
   "source": [
    "def create_feature_max(timeseries, *args):\n",
    "    passband_max=timeseries.groupby(['object_id','passband'],as_index=False)['flux'].max()\n",
    "    for arg in args:\n",
    "        res=passband_max[passband_max['passband']==arg]\n",
    "        var=\"passband_\"+str(arg)+\"_max\"\n",
    "        res=res.rename(columns={\"flux\":var})\n",
    "        yield res.drop(['passband'],axis=1)\n",
    "# put the passband you want to calculate the max\n",
    "\n",
    "    "
   ]
  },
  {
   "cell_type": "code",
   "execution_count": 37,
   "metadata": {
    "collapsed": true
   },
   "outputs": [],
   "source": [
    "def create_feature_min(timeseries,*args):\n",
    "    passband_min=timeseries.groupby(['object_id','passband'],as_index=False)['flux'].min()\n",
    "    for arg in args:\n",
    "        res=passband_min[passband_min['passband']==arg]\n",
    "        var=\"passband_\"+str(arg)+\"_min\"\n",
    "        res=res.rename(columns={\"flux\":var})\n",
    "        yield res.drop(['passband'],axis=1)"
   ]
  },
  {
   "cell_type": "code",
   "execution_count": 38,
   "metadata": {
    "collapsed": true,
    "scrolled": true
   },
   "outputs": [],
   "source": [
    "def create_feature_quantile(timeseries,quan,*args):\n",
    "    passband_quantile=timeseries.groupby(['object_id','passband'],as_index=False)['flux']\\\n",
    "    .quantile(quan,interpolation='lower').reset_index()\n",
    "    passband_quantile.columns=['object_id','passband','quantile']\n",
    "    passband_quantile['quantile']=passband_quantile['quantile'].round(6)\n",
    "    res_list=[]\n",
    "    for arg in args:\n",
    "        res=passband_quantile[passband_quantile['passband']==arg]\n",
    "        var=\"passband_\"+str(arg)+\"_\"+str(quan*100)+\"quantile\"\n",
    "        res=res.rename(columns={'quantile':var})\n",
    "        yield res.drop(['passband'],axis=1)\n",
    "#         return res.drop(['passband'],axis=1)"
   ]
  },
  {
   "cell_type": "code",
   "execution_count": 39,
   "metadata": {
    "collapsed": true
   },
   "outputs": [],
   "source": [
    "def create_peak_freq(timeseries, quantile, peak_direction):\n",
    "    col=quantile.columns[1]\n",
    "    passband=int(col.split('_')[1])\n",
    "    objs=timeseries.object_id.unique()\n",
    "    peak_freq=pd.DataFrame(columns=['object_id','peak_freq'])\n",
    "    for obj in objs:\n",
    "        tm=timeseries[(timeseries['object_id']==obj) &(timeseries['passband']==passband)]\n",
    "        quan=quantile.loc[quantile['object_id']==obj,col].reset_index().drop(['index'],axis=1)\n",
    "        quan=quan[col][0]\n",
    "        df=peak_freq_helper(tm,peak_direction,quan)\n",
    "        peak_freq=peak_freq.append(df)\n",
    "    return peak_freq"
   ]
  },
  {
   "cell_type": "code",
   "execution_count": 40,
   "metadata": {
    "collapsed": true
   },
   "outputs": [],
   "source": [
    "def peak_freq_helper(tm,peak_direction,quan):\n",
    "    if peak_direction=='positive':\n",
    "#         keep object_id, mjd, and flux\n",
    "        potential=tm[tm['flux']>=quan].drop(['target','flux_err','detected','time2'],axis=1)\n",
    "        temp=peak_helper(potential)\n",
    "        return temp\n",
    "    else:\n",
    "        potential=tm[tm['flux']<=quan].drop(['target','flux_err','detected','time2'],axis=1)\n",
    "        return peak_helper(potential)"
   ]
  },
  {
   "cell_type": "code",
   "execution_count": 41,
   "metadata": {
    "collapsed": true
   },
   "outputs": [],
   "source": [
    "def peak_helper(potential):\n",
    "    import copy\n",
    "    # object_id, mjd, flux\n",
    "    mat=potential.values\n",
    "    # five days interval for peak\n",
    "    mjd_thre=5\n",
    "    data=[]\n",
    "    if len(mat)==1:\n",
    "        data.append(copy.deepcopy(mat[0]))\n",
    "    else:\n",
    "        for i in range(len(mat)):\n",
    "            if i==0 and mat[i][2]>mat[i+1][2]:\n",
    "                data.append(copy.deepcopy(mat[i]))\n",
    "            elif i==len(mat)-1 and mat[i][2]>mat[i-1][2] and mat[i][1]-data[-1][1]>=mjd_thre:\n",
    "                data.append(copy.deepcopy(mat[i]))\n",
    "            elif i>0 and i<len(mat)-1 and mat[i][2]>mat[i-1][2] and mat[i][2]>mat[i+1][2] \\\n",
    "            and mat[i][1]-data[-1][1]>=mjd_thre:\n",
    "                data.append(copy.deepcopy(mat[i]))\n",
    "    res=[[mat[0][0],len(data)]]\n",
    "    return pd.DataFrame(res,columns=['object_id','peak_freq'])\n",
    "                \n",
    "                "
   ]
  },
  {
   "cell_type": "code",
   "execution_count": 42,
   "metadata": {
    "collapsed": true
   },
   "outputs": [],
   "source": [
    "def add_features(timeseries,shrink, *args):\n",
    "    idx=timeseries.object_id.unique()\n",
    "    if shrink==None:\n",
    "        shrink=pd.DataFrame()\n",
    "        shrink['object_id']=pd.Series(idx)\n",
    "#     create the new column value\n",
    "    for arg in args:\n",
    "        shrink=shrink.merge(arg,on='object_id',how='inner')\n",
    "    return shrink"
   ]
  },
  {
   "cell_type": "code",
   "execution_count": 43,
   "metadata": {
    "collapsed": true
   },
   "outputs": [],
   "source": [
    "res1, res2=create_feature_max(mytrain,1,2)\n",
    "res3, res4=create_feature_quantile(mytrain,0.9,1,2)\n",
    "res5=create_peak_freq(mytrain,res1,'positive')\n",
    "shrink_train=add_features(mytrain,None,res1,res2,res3,res4,res5)\n",
    "res1, res2=create_feature_max(myval,1,2)\n",
    "res3, res4=create_feature_quantile(myval,0.9,1,2)\n",
    "shrink_val=add_features(myval,None,res1,res2,res3,res4)"
   ]
  },
  {
   "cell_type": "code",
   "execution_count": 30,
   "metadata": {
    "collapsed": true
   },
   "outputs": [],
   "source": [
    "label_train=mytrain.drop_duplicates('object_id').reset_index()\n",
    "label_train=label_train.drop(['index','mjd','passband','flux','flux_err','detected','time2'],axis=1)\n",
    "label_val=myval.drop_duplicates('object_id').reset_index()\n",
    "label_val=label_val.drop(['index','mjd','passband','flux','flux_err','detected'],axis=1)"
   ]
  },
  {
   "cell_type": "code",
   "execution_count": 31,
   "metadata": {
    "collapsed": true
   },
   "outputs": [],
   "source": [
    "def transfrom_to_logistic_form(data,label,tar):\n",
    "    data=pd.merge(data,label,how='inner',on=['object_id'])\n",
    "    data['final_target']=[1 if x==tar else 0 for x in data['target']]\n",
    "    data=data.drop(['target'],axis=1)\n",
    "    data=data.rename(columns={\"final_target\":\"target\"})\n",
    "    X=data.drop(['target','object_id'],axis=1)\n",
    "    Y=data.loc[:,'target']\n",
    "    return X,Y"
   ]
  },
  {
   "cell_type": "code",
   "execution_count": 32,
   "metadata": {
    "collapsed": true
   },
   "outputs": [],
   "source": [
    "X,Y=transfrom_to_logistic_form(shrink_train,label_train,90)\n",
    "X_val,Y_val=transfrom_to_logistic_form(shrink_val,label_val,90)"
   ]
  },
  {
   "cell_type": "code",
   "execution_count": 35,
   "metadata": {},
   "outputs": [
    {
     "ename": "AttributeError",
     "evalue": "'matrix' object has no attribute 'values'",
     "output_type": "error",
     "traceback": [
      "\u001b[1;31m---------------------------------------------------------------------------\u001b[0m",
      "\u001b[1;31mAttributeError\u001b[0m                            Traceback (most recent call last)",
      "\u001b[1;32m<ipython-input-35-25bb7e111a3e>\u001b[0m in \u001b[0;36m<module>\u001b[1;34m()\u001b[0m\n\u001b[1;32m----> 1\u001b[1;33m \u001b[0mX\u001b[0m\u001b[1;33m=\u001b[0m\u001b[0mX\u001b[0m\u001b[1;33m.\u001b[0m\u001b[0mvalues\u001b[0m\u001b[1;33m\u001b[0m\u001b[0m\n\u001b[0m\u001b[0;32m      2\u001b[0m \u001b[0mX\u001b[0m\u001b[1;33m=\u001b[0m\u001b[0mnp\u001b[0m\u001b[1;33m.\u001b[0m\u001b[0mmat\u001b[0m\u001b[1;33m(\u001b[0m\u001b[0mX\u001b[0m\u001b[1;33m)\u001b[0m\u001b[1;33m\u001b[0m\u001b[0m\n\u001b[0;32m      3\u001b[0m \u001b[0mY\u001b[0m\u001b[1;33m=\u001b[0m\u001b[0mY\u001b[0m\u001b[1;33m.\u001b[0m\u001b[0mvalues\u001b[0m\u001b[1;33m\u001b[0m\u001b[0m\n\u001b[0;32m      4\u001b[0m \u001b[0mX_val\u001b[0m\u001b[1;33m=\u001b[0m\u001b[0mX_val\u001b[0m\u001b[1;33m.\u001b[0m\u001b[0mvalues\u001b[0m\u001b[1;33m\u001b[0m\u001b[0m\n\u001b[0;32m      5\u001b[0m \u001b[0mX_val\u001b[0m\u001b[1;33m=\u001b[0m\u001b[0mnp\u001b[0m\u001b[1;33m.\u001b[0m\u001b[0mmat\u001b[0m\u001b[1;33m(\u001b[0m\u001b[0mX_val\u001b[0m\u001b[1;33m)\u001b[0m\u001b[1;33m\u001b[0m\u001b[0m\n",
      "\u001b[1;31mAttributeError\u001b[0m: 'matrix' object has no attribute 'values'"
     ]
    }
   ],
   "source": [
    "X=X.values\n",
    "X=np.mat(X)\n",
    "Y=Y.values\n",
    "X_val=X_val.values\n",
    "X_val=np.mat(X_val)\n",
    "Y_val=Y_val.values"
   ]
  },
  {
   "cell_type": "code",
   "execution_count": 34,
   "metadata": {},
   "outputs": [
    {
     "ename": "NameError",
     "evalue": "name 'train' is not defined",
     "output_type": "error",
     "traceback": [
      "\u001b[1;31m---------------------------------------------------------------------------\u001b[0m",
      "\u001b[1;31mNameError\u001b[0m                                 Traceback (most recent call last)",
      "\u001b[1;32m<ipython-input-34-d9209d337182>\u001b[0m in \u001b[0;36m<module>\u001b[1;34m()\u001b[0m\n\u001b[1;32m----> 1\u001b[1;33m \u001b[0mx\u001b[0m\u001b[1;33m,\u001b[0m\u001b[0mb\u001b[0m\u001b[1;33m=\u001b[0m\u001b[0mtrain\u001b[0m\u001b[1;33m(\u001b[0m\u001b[0mX2\u001b[0m\u001b[1;33m,\u001b[0m \u001b[0mY2\u001b[0m\u001b[1;33m,\u001b[0m \u001b[0malpha\u001b[0m\u001b[1;33m=\u001b[0m\u001b[1;36m0.001\u001b[0m\u001b[1;33m,\u001b[0m \u001b[0mn_epoch\u001b[0m\u001b[1;33m=\u001b[0m\u001b[1;36m100\u001b[0m\u001b[1;33m)\u001b[0m\u001b[1;33m\u001b[0m\u001b[0m\n\u001b[0m",
      "\u001b[1;31mNameError\u001b[0m: name 'train' is not defined"
     ]
    }
   ],
   "source": [
    "x,b=train(X2, Y2, alpha=0.001, n_epoch=100)"
   ]
  },
  {
   "cell_type": "code",
   "execution_count": 320,
   "metadata": {
    "collapsed": true
   },
   "outputs": [],
   "source": [
    "from sklearn.datasets import load_iris\n",
    "from sklearn.linear_model import LogisticRegression\n",
    "clf = LogisticRegression(random_state=0, solver='lbfgs',\\\n",
    "                         multi_class='multinomial').fit(X2, Y2)\n",
    "clf.score(X_val,Y_val)"
   ]
  },
  {
   "cell_type": "markdown",
   "metadata": {},
   "source": [
    "## Decision trees"
   ]
  },
  {
   "cell_type": "code",
   "execution_count": null,
   "metadata": {
    "collapsed": true
   },
   "outputs": [],
   "source": [
    "print(__doc__)\n",
    "\n",
    "from itertools import product\n",
    "\n",
    "import numpy as np\n",
    "import matplotlib.pyplot as plt\n",
    "\n",
    "from sklearn import datasets\n",
    "from sklearn.tree import DecisionTreeClassifier\n",
    "from sklearn.neighbors import KNeighborsClassifier\n",
    "from sklearn.svm import SVC\n",
    "from sklearn.ensemble import VotingClassifier\n",
    "\n",
    "# Loading some example data\n",
    "iris = datasets.load_iris()\n",
    "X = iris.data[:, [0, 2]]\n",
    "y = iris.target\n",
    "\n",
    "# Training classifiers\n",
    "clf1 = DecisionTreeClassifier(max_depth=4)\n",
    "clf2 = KNeighborsClassifier(n_neighbors=7)\n",
    "clf3 = SVC(gamma=.1, kernel='rbf', probability=True)\n",
    "eclf = VotingClassifier(estimators=[('dt', clf1), ('knn', clf2),\n",
    "                                    ('svc', clf3)],\n",
    "                        voting='soft', weights=[2, 1, 2])\n",
    "\n",
    "clf1.fit(X, y)\n",
    "clf2.fit(X, y)\n",
    "clf3.fit(X, y)\n",
    "eclf.fit(X, y)\n",
    "\n",
    "# Plotting decision regions\n",
    "x_min, x_max = X[:, 0].min() - 1, X[:, 0].max() + 1\n",
    "y_min, y_max = X[:, 1].min() - 1, X[:, 1].max() + 1\n",
    "xx, yy = np.meshgrid(np.arange(x_min, x_max, 0.1),\n",
    "                     np.arange(y_min, y_max, 0.1))\n",
    "\n",
    "f, axarr = plt.subplots(2, 2, sharex='col', sharey='row', figsize=(10, 8))\n",
    "\n",
    "for idx, clf, tt in zip(product([0, 1], [0, 1]),\n",
    "                        [clf1, clf2, clf3, eclf],\n",
    "                        ['Decision Tree (depth=4)', 'KNN (k=7)',\n",
    "                         'Kernel SVM', 'Soft Voting']):\n",
    "\n",
    "    Z = clf.predict(np.c_[xx.ravel(), yy.ravel()])\n",
    "    Z = Z.reshape(xx.shape)\n",
    "\n",
    "    axarr[idx[0], idx[1]].contourf(xx, yy, Z, alpha=0.4)\n",
    "    axarr[idx[0], idx[1]].scatter(X[:, 0], X[:, 1], c=y,\n",
    "                                  s=20, edgecolor='k')\n",
    "    axarr[idx[0], idx[1]].set_title(tt)\n",
    "\n",
    "plt.show()"
   ]
  },
  {
   "cell_type": "markdown",
   "metadata": {},
   "source": [
    "## Random Forest"
   ]
  },
  {
   "cell_type": "code",
   "execution_count": null,
   "metadata": {
    "collapsed": true
   },
   "outputs": [],
   "source": [
    "X, y = make_classification(n_samples=1000, n_features=4,n_informative=2, n_redundant=0,random_state=0, shuffle=False)\n",
    "clf = RandomForestClassifier(n_estimators=100, max_depth=2,random_state=0)\n",
    "clf.fit(X, y)\n",
    "RandomForestClassifier(bootstrap=True, class_weight=None, criterion='gini',\n",
    "            max_depth=2, max_features='auto', max_leaf_nodes=None,\n",
    "            min_impurity_decrease=0.0, min_impurity_split=None,\n",
    "            min_samples_leaf=1, min_samples_split=2,\n",
    "            min_weight_fraction_leaf=0.0, n_estimators=100, n_jobs=None,\n",
    "            oob_score=False, random_state=0, verbose=0, warm_start=False)\n",
    "print(clf.feature_importances_)\n",
    "[0.14205973 0.76664038 0.0282433  0.06305659]\n",
    "print(clf.predict([[0, 0, 0, 0]]))"
   ]
  },
  {
   "cell_type": "markdown",
   "metadata": {},
   "source": [
    "## XGBoost"
   ]
  },
  {
   "cell_type": "code",
   "execution_count": null,
   "metadata": {
    "collapsed": true
   },
   "outputs": [],
   "source": []
  }
 ],
 "metadata": {
  "kernelspec": {
   "display_name": "Python 3",
   "language": "python",
   "name": "python3"
  },
  "language_info": {
   "codemirror_mode": {
    "name": "ipython",
    "version": 3
   },
   "file_extension": ".py",
   "mimetype": "text/x-python",
   "name": "python",
   "nbconvert_exporter": "python",
   "pygments_lexer": "ipython3",
   "version": "3.6.2"
  }
 },
 "nbformat": 4,
 "nbformat_minor": 2
}
