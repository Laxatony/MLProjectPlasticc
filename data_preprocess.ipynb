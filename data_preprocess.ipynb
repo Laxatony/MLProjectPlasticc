{
 "cells": [
  {
   "cell_type": "markdown",
   "metadata": {},
   "source": [
    "<p style=\"text-align: center;font-size: 60px;\">Stars</p>\n",
    "<br\\><br\\>\n",
    "PLAsTiCC Astronomical Classification<br/>\n",
    "https://www.kaggle.com/c/PLAsTiCC-2018"
   ]
  },
  {
   "cell_type": "markdown",
   "metadata": {},
   "source": [
    "1. Problem: Can we idnetify star's type based on observed information? \n",
    "2. Goal: Categorize star type based on their constant properties and light ratio changes in different passbands\n",
    "3. Evaluation"
   ]
  },
  {
   "cell_type": "code",
   "execution_count": 1,
   "metadata": {
    "collapsed": true
   },
   "outputs": [],
   "source": [
    "import numpy as np\n",
    "import pandas as pd\n",
    "import matplotlib.pyplot as plt\n",
    "%matplotlib inline\n",
    "from random import shuffle"
   ]
  },
  {
   "cell_type": "markdown",
   "metadata": {},
   "source": [
    "## Load MetaData and TimeSeries Data--edit your file path here"
   ]
  },
  {
   "cell_type": "code",
   "execution_count": 7,
   "metadata": {},
   "outputs": [],
   "source": [
    "# Load and Show Training Metatata\n",
    "# tm: train_metadata\n",
    "TM = pd.read_csv('training_set_metadata.csv')\n",
    "# print(TM.shape[0])\n",
    "# TM.sort_values(by=['object_id'], ascending=True).head(10)\n",
    "TS=pd.read_csv('training_set.csv')\n",
    "# print(TS.shape[0])\n",
    "# TS.sort_values(by=['object_id'],ascending=True).head(10)"
   ]
  },
  {
   "cell_type": "code",
   "execution_count": 8,
   "metadata": {},
   "outputs": [
    {
     "data": {
      "text/plain": [
       "7848"
      ]
     },
     "execution_count": 8,
     "metadata": {},
     "output_type": "execute_result"
    }
   ],
   "source": [
    "len(TM.object_id.unique())\n",
    "# TM.sort_values(by=['object_id'], ascending=True).head(10)"
   ]
  },
  {
   "cell_type": "markdown",
   "metadata": {},
   "source": [
    "## Preprocess Steps\n",
    "1. For target class in MetaData, divide trainging and testing by 70% and 30%\n",
    "1. For non-target class, use bootstrapping sampling method to generate training sample (non-selected)\n",
    "1. For the rest of them, join to testing dataset as non-target class\n",
    "1. For now there's no k-fold cross validation here\n",
    "1. For the target class in training dataset, choose some object_id, shows the time-series pattern to analyze possible featrues. Require to merge the training target into timesries data first."
   ]
  },
  {
   "cell_type": "code",
   "execution_count": 9,
   "metadata": {
    "collapsed": true
   },
   "outputs": [],
   "source": [
    "# get the distribution of each class first\n",
    "distribution={}\n",
    "for index, row in TM.iterrows():\n",
    "    target=row['target']\n",
    "    if target not in distribution:\n",
    "        distribution[target]={}\n",
    "        distribution[target]['member']=[]\n",
    "        distribution[target]['proportion']=0.0\n",
    "    distribution[target]['member'].append(row['object_id'])\n",
    "\n",
    "total_obj=len(TM.object_id.unique())\n",
    "for target in distribution:\n",
    "    sub_len=len(distribution[target]['member'])\n",
    "    distribution[target]['proportion']=sub_len/total_obj"
   ]
  },
  {
   "cell_type": "markdown",
   "metadata": {},
   "source": [
    "## For each target class, seperate data into training set(70%) and validataion set(30%)"
   ]
  },
  {
   "cell_type": "code",
   "execution_count": 10,
   "metadata": {
    "collapsed": true
   },
   "outputs": [],
   "source": [
    "def split_train_validation(df, validation_ratio,distribution,target):\n",
    "    ''' split data into train set and validation set for each target class'''\n",
    "    \n",
    "    train = pd.DataFrame(columns=df.columns)\n",
    "    validation = pd.DataFrame(columns=df.columns)\n",
    "    target_member=distribution[target]['member']\n",
    "    shuffle(target_member)\n",
    "    thres=len(target_member)*(1-validation_ratio)\n",
    "    for i in range(len(target_member)):\n",
    "        if i <= thres:\n",
    "            train=train.append(df[df['object_id']==target_member[i]],ignore_index=True)\n",
    "        else:\n",
    "            validation=validation.append(df[df['object_id']==target_member[i]],ignore_index=True)\n",
    "    # now for all other target class, extract training sample in the same distribution, with a total amount equal to \n",
    "    # target numbers which is thres\n",
    "#     print(len(train.object_id.unique()))\n",
    "#     print(len(validation.object_id.unique()))\n",
    "    for t in distribution:\n",
    "        if t!=target:\n",
    "            t_member=distribution[t]['member']\n",
    "            shuffle(t_member)\n",
    "            # for training dataset\n",
    "            sub_thres=thres*distribution[t]['proportion']\n",
    "            for i in range(len(t_member)):\n",
    "                if i <= sub_thres:\n",
    "                    train=train.append(df[df['object_id']==t_member[i]],ignore_index=True)\n",
    "                else:\n",
    "                    validation=validation.append(df[df['object_id']==t_member[i]],ignore_index=True)\n",
    "    \n",
    "    \n",
    "#     print(len(train.object_id.unique()))\n",
    "#     print(len(validation.object_id.unique()))\n",
    "    return train.drop(['ra','decl','gal_l','gal_b','ddf','hostgal_specz','hostgal_photoz','hostgal_photoz_err','distmod','mwebv'],axis=1),\\\n",
    "validation.drop(['ra','decl','gal_l','gal_b','ddf','hostgal_specz','hostgal_photoz','hostgal_photoz_err','distmod','mwebv'],axis=1)\n",
    "#     targets = sorted(list(df['target'].unique()))\n",
    "#     np.random.seed(4)\n",
    "#     for target in targets:\n",
    "#         sub_df = df[df['target']==target].sort_values(by=['object_id'])\n",
    "        \n",
    "#         msk = np.random.rand(len(sub_df)) > validation_ratio\n",
    "#         train = train.append(sub_df[msk], ignore_index=True)\n",
    "#         validation = validation.append(sub_df[~msk], ignore_index=True)\n",
    "        \n",
    "#     train.sort_values(by=['object_id'], inplace=True)\n",
    "#     validation.sort_values(by=['object_id'], inplace=True)\n",
    "#     return train.drop(['target'], axis=1), train[['target']], validation.drop(['target'], axis=1), validation[['target']]\n"
   ]
  },
  {
   "cell_type": "code",
   "execution_count": 11,
   "metadata": {
    "collapsed": true
   },
   "outputs": [],
   "source": [
    "# change the target number as the last parameter\n",
    "mytrain, myval=split_train_validation(TM,0.3,distribution,88)"
   ]
  },
  {
   "cell_type": "code",
   "execution_count": 12,
   "metadata": {},
   "outputs": [],
   "source": [
    "# this part is for testing the distribution fit, you don't have to run this\n",
    "# test_dist={}\n",
    "# for index, row in mytrain.iterrows():\n",
    "#     target=row['target']\n",
    "#     if target not in test_dist:\n",
    "#         test_dist[target]={}\n",
    "#         test_dist[target]['member']=[]\n",
    "#         test_dist[target]['proportion']=0.0\n",
    "#     test_dist[target]['member'].append(row['object_id'])\n",
    "\n",
    "# mytotal_obj=len(mytrain.object_id.unique())/2\n",
    "# print(mytotal_obj)\n",
    "# for target in test_dist:\n",
    "#     sub_len=len(test_dist[target]['member'])\n",
    "#     test_dist[target]['proportion']=sub_len/mytotal_obj\n",
    "#     print(test_dist[target]['proportion'],\" \",distribution[target]['proportion'])"
   ]
  },
  {
   "cell_type": "code",
   "execution_count": 13,
   "metadata": {
    "collapsed": true
   },
   "outputs": [],
   "source": [
    "# combine training dataset and validation dataset into time-series data, rename the variable as you want\n",
    "mytrain_2=pd.merge(mytrain,TS,how='right',on=['object_id'])\n",
    "myval_2=pd.merge(myval,TS,how='right',on=['object_id'])"
   ]
  },
  {
   "cell_type": "code",
   "execution_count": 14,
   "metadata": {
    "collapsed": true
   },
   "outputs": [],
   "source": [
    "# you don't have to run this, this is for checking the result\n",
    "# mytrain_2.head()\n",
    "# TS[TS['object_id']==22083479]\n",
    "# myval[myval['object_id']==22083479]\n",
    "# mytrain_2[mytrain_2['object_id']==22083479]\n",
    "# myval_2[myval_2['object_id']==22083479]"
   ]
  },
  {
   "cell_type": "code",
   "execution_count": 15,
   "metadata": {},
   "outputs": [
    {
     "data": {
      "text/plain": [
       "<matplotlib.axes._subplots.AxesSubplot at 0x16243df5f98>"
      ]
     },
     "execution_count": 15,
     "metadata": {},
     "output_type": "execute_result"
    },
    {
     "data": {
      "image/png": "[encoded data removed]",
      "text/plain": [
       "<matplotlib.figure.Figure at 0x16243de3b00>"
      ]
     },
     "metadata": {},
     "output_type": "display_data"
    }
   ],
   "source": [
    "# now try to draw the pattern from time-series data, pick the first object from training dataset, \n",
    "# change the passband as you want\n",
    "randobj=mytrain_2.object_id.unique()[0]\n",
    "train_randobj_1=mytrain_2[(mytrain_2['object_id']==randobj) & (mytrain_2['passband']==0)]\n",
    "train_randobj_1.head()\n",
    "train_randobj_1.drop(['object_id','passband','flux_err','detected','target'],axis=1).plot(x='mjd',y='flux')"
   ]
  },
  {
   "cell_type": "code",
   "execution_count": null,
   "metadata": {
    "collapsed": true
   },
   "outputs": [],
   "source": []
  }
 ],
 "metadata": {
  "kernelspec": {
   "display_name": "Python 3",
   "language": "python",
   "name": "python3"
  },
  "language_info": {
   "codemirror_mode": {
    "name": "ipython",
    "version": 3
   },
   "file_extension": ".py",
   "mimetype": "text/x-python",
   "name": "python",
   "nbconvert_exporter": "python",
   "pygments_lexer": "ipython3",
   "version": "3.6.2"
  }
 },
 "nbformat": 4,
 "nbformat_minor": 2
}
