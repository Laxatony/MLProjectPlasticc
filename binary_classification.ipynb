{
 "cells": [
  {
   "cell_type": "markdown",
   "metadata": {},
   "source": [
    "<p style=\"text-align: center;font-size: 60px;\">Stars</p>\n",
    "<br\\><br\\>\n",
    "PLAsTiCC Astronomical Classification<br/>\n",
    "https://www.kaggle.com/c/PLAsTiCC-2018"
   ]
  },
  {
   "cell_type": "markdown",
   "metadata": {},
   "source": [
    "1. Problem: Can we idnetify star's type based on observed information? \n",
    "2. Goal: Categorize star type based on their constant properties and light ratio changes in different passbands\n",
    "3. Evaluation"
   ]
  },
  {
   "cell_type": "code",
   "execution_count": 53,
   "metadata": {},
   "outputs": [],
   "source": [
    "import numpy as np\n",
    "import pandas as pd\n",
    "import matplotlib.pyplot as plt\n",
    "from random import shuffle\n",
    "import random\n",
    "import math\n",
    "import sys\n",
    "from sklearn.datasets import make_classification\n",
    "import time\n",
    "import gc\n",
    "from sklearn.datasets import load_iris\n",
    "from sklearn.linear_model import LogisticRegression\n",
    "from sklearn.linear_model import LinearRegression\n",
    "from sklearn.ensemble import RandomForestClassifier\n",
    "import cesium.featurize as featurize\n",
    "from scipy import signal\n",
    "import warnings\n",
    "from sklearn.metrics import confusion_matrix\n",
    "import itertools\n",
    "from matplotlib.pyplot import figure\n",
    "from sklearn.model_selection import StratifiedShuffleSplit\n",
    "import pickle"
   ]
  },
  {
   "cell_type": "markdown",
   "metadata": {},
   "source": [
    "## Load MetaData and TimeSeries Data--edit your file path here"
   ]
  },
  {
   "cell_type": "code",
   "execution_count": 91,
   "metadata": {},
   "outputs": [],
   "source": [
    "# Load and Show Training Metatata\n",
    "# tm: train_metadata\n",
    "TM = pd.read_csv('../training_set_metadata.csv')\n",
    "# print(TM.shape[0])\n",
    "# TM.sort_values(by=['object_id'], ascending=True).head(10)\n",
    "TS=pd.read_csv('../training_set.csv')\n",
    "# print(TS.shape[0])\n",
    "# TS.sort_values(by=['object_id'],ascending=True).head(10)\n",
    "cfeats=pd.read_csv('/Users/Nathan/OneDrive/WPI/CLASS/Machine Learning/Project/cfeats.csv',header=[0,1],index_col=0)\n",
    "allshrink=pd.read_csv('./allshrink.csv',index_col=0)\n",
    "alllabel=pd.read_csv('./alllabel.csv',index_col=0)\n",
    "# TS=pd.read_csv('/Users/Nathan/OneDrive/WPI/CLASS/Machine Learning/Project/TimeSeries2.csv',index_col=0)"
   ]
  },
  {
   "cell_type": "code",
   "execution_count": 185,
   "metadata": {},
   "outputs": [
    {
     "data": {
      "text/html": [
       "<div>\n",
       "<style scoped>\n",
       "    .dataframe tbody tr th:only-of-type {\n",
       "        vertical-align: middle;\n",
       "    }\n",
       "\n",
       "    .dataframe tbody tr th {\n",
       "        vertical-align: top;\n",
       "    }\n",
       "\n",
       "    .dataframe thead th {\n",
       "        text-align: right;\n",
       "    }\n",
       "</style>\n",
       "<table border=\"1\" class=\"dataframe\">\n",
       "  <thead>\n",
       "    <tr style=\"text-align: right;\">\n",
       "      <th></th>\n",
       "      <th>object_id</th>\n",
       "      <th>passband0_mjd_size</th>\n",
       "      <th>passband1_mjd_size</th>\n",
       "      <th>passband2_mjd_size</th>\n",
       "      <th>passband3_mjd_size</th>\n",
       "      <th>passband4_mjd_size</th>\n",
       "      <th>passband5_mjd_size</th>\n",
       "      <th>passband0_passband_min</th>\n",
       "      <th>passband1_passband_min</th>\n",
       "      <th>passband2_passband_min</th>\n",
       "      <th>...</th>\n",
       "      <th>peakfreq_2_positive</th>\n",
       "      <th>peakfreq_3_positive</th>\n",
       "      <th>peakfreq_4_positive</th>\n",
       "      <th>peakfreq_5_positive</th>\n",
       "      <th>peakfreq_0_negative</th>\n",
       "      <th>peakfreq_1_negative</th>\n",
       "      <th>peakfreq_2_negative</th>\n",
       "      <th>peakfreq_3_negative</th>\n",
       "      <th>peakfreq_4_negative</th>\n",
       "      <th>peakfreq_5_negative</th>\n",
       "    </tr>\n",
       "  </thead>\n",
       "  <tbody>\n",
       "    <tr>\n",
       "      <th>6640</th>\n",
       "      <td>121779085</td>\n",
       "      <td>15</td>\n",
       "      <td>10</td>\n",
       "      <td>22</td>\n",
       "      <td>20</td>\n",
       "      <td>31</td>\n",
       "      <td>39</td>\n",
       "      <td>0</td>\n",
       "      <td>1</td>\n",
       "      <td>2</td>\n",
       "      <td>...</td>\n",
       "      <td>0</td>\n",
       "      <td>0</td>\n",
       "      <td>0</td>\n",
       "      <td>0</td>\n",
       "      <td>0</td>\n",
       "      <td>0</td>\n",
       "      <td>0</td>\n",
       "      <td>0</td>\n",
       "      <td>0</td>\n",
       "      <td>0</td>\n",
       "    </tr>\n",
       "    <tr>\n",
       "      <th>7251</th>\n",
       "      <td>86188652</td>\n",
       "      <td>10</td>\n",
       "      <td>15</td>\n",
       "      <td>19</td>\n",
       "      <td>20</td>\n",
       "      <td>35</td>\n",
       "      <td>38</td>\n",
       "      <td>0</td>\n",
       "      <td>1</td>\n",
       "      <td>2</td>\n",
       "      <td>...</td>\n",
       "      <td>0</td>\n",
       "      <td>0</td>\n",
       "      <td>0</td>\n",
       "      <td>0</td>\n",
       "      <td>0</td>\n",
       "      <td>0</td>\n",
       "      <td>0</td>\n",
       "      <td>0</td>\n",
       "      <td>0</td>\n",
       "      <td>0</td>\n",
       "    </tr>\n",
       "    <tr>\n",
       "      <th>7689</th>\n",
       "      <td>90739539</td>\n",
       "      <td>9</td>\n",
       "      <td>13</td>\n",
       "      <td>24</td>\n",
       "      <td>18</td>\n",
       "      <td>32</td>\n",
       "      <td>40</td>\n",
       "      <td>0</td>\n",
       "      <td>1</td>\n",
       "      <td>2</td>\n",
       "      <td>...</td>\n",
       "      <td>0</td>\n",
       "      <td>0</td>\n",
       "      <td>0</td>\n",
       "      <td>0</td>\n",
       "      <td>0</td>\n",
       "      <td>0</td>\n",
       "      <td>0</td>\n",
       "      <td>0</td>\n",
       "      <td>0</td>\n",
       "      <td>0</td>\n",
       "    </tr>\n",
       "    <tr>\n",
       "      <th>6257</th>\n",
       "      <td>174980</td>\n",
       "      <td>72</td>\n",
       "      <td>52</td>\n",
       "      <td>40</td>\n",
       "      <td>51</td>\n",
       "      <td>51</td>\n",
       "      <td>51</td>\n",
       "      <td>0</td>\n",
       "      <td>1</td>\n",
       "      <td>2</td>\n",
       "      <td>...</td>\n",
       "      <td>0</td>\n",
       "      <td>0</td>\n",
       "      <td>0</td>\n",
       "      <td>0</td>\n",
       "      <td>0</td>\n",
       "      <td>0</td>\n",
       "      <td>0</td>\n",
       "      <td>0</td>\n",
       "      <td>0</td>\n",
       "      <td>0</td>\n",
       "    </tr>\n",
       "    <tr>\n",
       "      <th>4952</th>\n",
       "      <td>47747067</td>\n",
       "      <td>13</td>\n",
       "      <td>12</td>\n",
       "      <td>19</td>\n",
       "      <td>25</td>\n",
       "      <td>32</td>\n",
       "      <td>33</td>\n",
       "      <td>0</td>\n",
       "      <td>1</td>\n",
       "      <td>2</td>\n",
       "      <td>...</td>\n",
       "      <td>0</td>\n",
       "      <td>0</td>\n",
       "      <td>0</td>\n",
       "      <td>0</td>\n",
       "      <td>0</td>\n",
       "      <td>0</td>\n",
       "      <td>0</td>\n",
       "      <td>0</td>\n",
       "      <td>0</td>\n",
       "      <td>0</td>\n",
       "    </tr>\n",
       "  </tbody>\n",
       "</table>\n",
       "<p>5 rows × 181 columns</p>\n",
       "</div>"
      ],
      "text/plain": [
       "      object_id  passband0_mjd_size  passband1_mjd_size  passband2_mjd_size  \\\n",
       "6640  121779085                  15                  10                  22   \n",
       "7251   86188652                  10                  15                  19   \n",
       "7689   90739539                   9                  13                  24   \n",
       "6257     174980                  72                  52                  40   \n",
       "4952   47747067                  13                  12                  19   \n",
       "\n",
       "      passband3_mjd_size  passband4_mjd_size  passband5_mjd_size  \\\n",
       "6640                  20                  31                  39   \n",
       "7251                  20                  35                  38   \n",
       "7689                  18                  32                  40   \n",
       "6257                  51                  51                  51   \n",
       "4952                  25                  32                  33   \n",
       "\n",
       "      passband0_passband_min  passband1_passband_min  passband2_passband_min  \\\n",
       "6640                       0                       1                       2   \n",
       "7251                       0                       1                       2   \n",
       "7689                       0                       1                       2   \n",
       "6257                       0                       1                       2   \n",
       "4952                       0                       1                       2   \n",
       "\n",
       "             ...           peakfreq_2_positive  peakfreq_3_positive  \\\n",
       "6640         ...                             0                    0   \n",
       "7251         ...                             0                    0   \n",
       "7689         ...                             0                    0   \n",
       "6257         ...                             0                    0   \n",
       "4952         ...                             0                    0   \n",
       "\n",
       "      peakfreq_4_positive  peakfreq_5_positive  peakfreq_0_negative  \\\n",
       "6640                    0                    0                    0   \n",
       "7251                    0                    0                    0   \n",
       "7689                    0                    0                    0   \n",
       "6257                    0                    0                    0   \n",
       "4952                    0                    0                    0   \n",
       "\n",
       "      peakfreq_1_negative  peakfreq_2_negative  peakfreq_3_negative  \\\n",
       "6640                    0                    0                    0   \n",
       "7251                    0                    0                    0   \n",
       "7689                    0                    0                    0   \n",
       "6257                    0                    0                    0   \n",
       "4952                    0                    0                    0   \n",
       "\n",
       "      peakfreq_4_negative  peakfreq_5_negative  \n",
       "6640                    0                    0  \n",
       "7251                    0                    0  \n",
       "7689                    0                    0  \n",
       "6257                    0                    0  \n",
       "4952                    0                    0  \n",
       "\n",
       "[5 rows x 181 columns]"
      ]
     },
     "execution_count": 185,
     "metadata": {},
     "output_type": "execute_result"
    }
   ],
   "source": [
    "# len(TM.object_id.unique())\n",
    "# TM.sort_values(by=['object_id'], ascending=True).head(10)\n",
    "allshrink.head()"
   ]
  },
  {
   "cell_type": "markdown",
   "metadata": {},
   "source": [
    "## Preprocess Steps\n",
    "1. For target class in MetaData, divide trainging and testing by 70% and 30%\n",
    "1. For non-target class, use bootstrapping sampling method to generate training sample (non-selected)\n",
    "1. For the rest of them, join to testing dataset as non-target class\n",
    "1. For now there's no k-fold cross validation here\n",
    "1. For the target class in training dataset, choose some object_id, shows the time-series pattern to analyze possible featrues. Require to merge the training target into timesries data first."
   ]
  },
  {
   "cell_type": "code",
   "execution_count": 186,
   "metadata": {},
   "outputs": [],
   "source": [
    "# get the distribution of each class first\n",
    "distribution={}\n",
    "for index, row in TM.iterrows():\n",
    "    target=row['target']\n",
    "    if target not in distribution:\n",
    "        distribution[target]={}\n",
    "        distribution[target]['member']=[]\n",
    "        distribution[target]['proportion']=0.0\n",
    "    distribution[target]['member'].append(row['object_id'])\n",
    "\n",
    "total_obj=len(TM.object_id.unique())\n",
    "for target in distribution:\n",
    "    sub_len=len(distribution[target]['member'])\n",
    "    distribution[target]['proportion']=sub_len/total_obj"
   ]
  },
  {
   "cell_type": "markdown",
   "metadata": {},
   "source": [
    "## For each target class, seperate data into training set(70%) and validataion set(30%)"
   ]
  },
  {
   "cell_type": "code",
   "execution_count": 187,
   "metadata": {},
   "outputs": [],
   "source": [
    "def split_train_validation(df, validation_ratio,distribution,target):\n",
    "    ''' split data into train set and validation set for each target class'''\n",
    "    \n",
    "    train = pd.DataFrame(columns=df.columns)\n",
    "    validation = pd.DataFrame(columns=df.columns)\n",
    "    target_member=distribution[target]['member']\n",
    "    random.seed(4)\n",
    "    shuffle(target_member)\n",
    "    thres=len(target_member)*(1-validation_ratio)\n",
    "    for i in range(len(target_member)):\n",
    "        if i <= thres:\n",
    "            train=train.append(df[df['object_id']==target_member[i]],ignore_index=True)\n",
    "        else:\n",
    "            validation=validation.append(df[df['object_id']==target_member[i]],ignore_index=True)\n",
    "    # now for all other target class, extract training sample in the same distribution, with a total amount equal to \n",
    "    # target numbers which is thres\n",
    "#     print(len(train.object_id.unique()))\n",
    "#     print(len(validation.object_id.unique()))\n",
    "    for t in distribution:\n",
    "        if t!=target:\n",
    "            t_member=distribution[t]['member']\n",
    "            shuffle(t_member)\n",
    "            # for training dataset\n",
    "            sub_thres=thres*distribution[t]['proportion']\n",
    "            for i in range(len(t_member)):\n",
    "                if i <= sub_thres:\n",
    "                    train=train.append(df[df['object_id']==t_member[i]],ignore_index=True)\n",
    "                else:\n",
    "                    validation=validation.append(df[df['object_id']==t_member[i]],ignore_index=True)\n",
    "    \n",
    "    \n",
    "#     print(len(train.object_id.unique()))\n",
    "#     print(len(validation.object_id.unique()))\n",
    "    return train.drop(['ra','decl','gal_l','gal_b','ddf','hostgal_specz' ,'hostgal_photoz','hostgal_photoz_err','distmod','mwebv'],axis=1),\\\n",
    "validation.drop(['ra','decl','gal_l','gal_b','ddf','hostgal_specz','hostgal_photoz','hostgal_photoz_err','distmod','mwebv'],axis=1)\n"
   ]
  },
  {
   "cell_type": "code",
   "execution_count": 6,
   "metadata": {},
   "outputs": [],
   "source": [
    "# change the target number as the last parameter\n",
    "mytrain, myval=split_train_validation(TM,0.3,distribution,90)"
   ]
  },
  {
   "cell_type": "code",
   "execution_count": 35,
   "metadata": {},
   "outputs": [
    {
     "data": {
      "text/plain": [
       "1620"
      ]
     },
     "execution_count": 35,
     "metadata": {},
     "output_type": "execute_result"
    }
   ],
   "source": [
    "# this part is for testing the distribution fit, you don't have to run this\n",
    "# test_dist={}\n",
    "# for index, row in mytrain.iterrows():\n",
    "#     target=row['target']\n",
    "#     if target not in test_dist:\n",
    "#         test_dist[target]={}\n",
    "#         test_dist[target]['member']=[]\n",
    "#         test_dist[target]['proportion']=0.0\n",
    "#     test_dist[target]['member'].append(row['object_id'])\n",
    "\n",
    "# mytotal_obj=len(mytrain.object_id.unique())/2\n",
    "# print(mytotal_obj)\n",
    "# for target in test_dist:\n",
    "#     sub_len=len(test_dist[target]['member'])\n",
    "#     test_dist[target]['proportion']=sub_len/mytotal_obj\n",
    "#     print(test_dist[target]['proportion'],\" \",distribution[target]['proportion'])\n",
    "# len(mytrain[mytrain['target']==90].object_id.unique())"
   ]
  },
  {
   "cell_type": "code",
   "execution_count": 7,
   "metadata": {},
   "outputs": [
    {
     "name": "stdout",
     "output_type": "stream",
     "text": [
      "  object_id target         mjd  passband       flux   flux_err  detected  \\\n",
      "0   6987066     90  59607.2485         1  -0.316492   2.777779         0   \n",
      "1   6987066     90  59608.3802         4   9.113014  20.102022         0   \n",
      "2   6987066     90  59610.2300         3   0.959905   3.562937         0   \n",
      "3   6987066     90  59615.1978         2  -0.888359   3.480564         0   \n",
      "4   6987066     90  59615.3806         4  20.476017  21.249695         0   \n",
      "\n",
      "                      time2  \n",
      "0  Fri Jan 28 00:57:50 2022  \n",
      "1  Sat Jan 29 04:07:29 2022  \n",
      "2  Mon Jan 31 00:31:12 2022  \n",
      "3  Fri Feb  4 23:44:49 2022  \n",
      "4  Sat Feb  5 04:08:03 2022  \n"
     ]
    }
   ],
   "source": [
    "# combine training dataset and validation dataset into time-series data, rename the variable as you want\n",
    "mytrain=pd.merge(mytrain,TS,how='inner',on=['object_id'])\n",
    "mytrain['time'] = (mytrain['mjd'] - 40587) * 86400\n",
    "mytrain['time2'] = mytrain['time'].apply(lambda x: time.ctime(x))\n",
    "mytrain=mytrain.drop(['time'],axis=1)\n",
    "print(mytrain.head())"
   ]
  },
  {
   "cell_type": "code",
   "execution_count": 8,
   "metadata": {},
   "outputs": [
    {
     "name": "stdout",
     "output_type": "stream",
     "text": [
      "  object_id target         mjd  passband       flux   flux_err  detected  \\\n",
      "0  19402817     90  59752.2909         3  -0.273184   7.013725         0   \n",
      "1  19402817     90  59769.2270         4   5.669641   6.419263         0   \n",
      "2  19402817     90  59770.3126         5 -21.878939  14.864022         0   \n",
      "3  19402817     90  59770.4407         4  32.963493  13.783964         0   \n",
      "4  19402817     90  59771.2447         4   2.458036  12.042955         0   \n",
      "\n",
      "                      time2  \n",
      "0  Wed Jun 22 02:58:53 2022  \n",
      "1  Sat Jul  9 01:26:52 2022  \n",
      "2  Sun Jul 10 03:30:08 2022  \n",
      "3  Sun Jul 10 06:34:36 2022  \n",
      "4  Mon Jul 11 01:52:22 2022  \n"
     ]
    }
   ],
   "source": [
    "myval=pd.merge(myval,TS,how='inner',on=['object_id'])\n",
    "myval['time'] = (myval['mjd'] - 40587) * 86400\n",
    "myval['time2'] = myval['time'].apply(lambda x: time.ctime(x))\n",
    "myval=myval.drop(['time'],axis=1)\n",
    "print(myval.head())"
   ]
  },
  {
   "cell_type": "code",
   "execution_count": 9,
   "metadata": {},
   "outputs": [
    {
     "name": "stdout",
     "output_type": "stream",
     "text": [
      "2770\n",
      "5078\n"
     ]
    }
   ],
   "source": [
    "# you don't have to run this, this is for checking the result\n",
    "print(len(mytrain.object_id.unique()))\n",
    "print(len(myval.object_id.unique()))\n"
   ]
  },
  {
   "cell_type": "code",
   "execution_count": 16,
   "metadata": {},
   "outputs": [
    {
     "data": {
      "text/plain": [
       "<matplotlib.axes._subplots.AxesSubplot at 0x10d36a7b8>"
      ]
     },
     "execution_count": 16,
     "metadata": {},
     "output_type": "execute_result"
    },
    {
     "data": {
      "image/png": "[encoded data removed]",
      "text/plain": [
       "<Figure size 432x288 with 1 Axes>"
      ]
     },
     "metadata": {
      "needs_background": "light"
     },
     "output_type": "display_data"
    }
   ],
   "source": [
    "# now try to draw the pattern from time-series data, pick the first object from training dataset, \n",
    "# change the passband as you want\n",
    "all_90=mytrain[mytrain['target']==90]\n",
    "# passband 0 flux in range -30~+50, for 90% of the data, true/false\n",
    "# passband 1 flux in range -10~+100, or has a maximum very high from others, most of time is positive\n",
    "# passband 2 flux in range -10~+300, some very high max, most of time is positive\n",
    "# passband 3 flux, if not very high, the range is just around 30-40, not always positive\n",
    "# passband 4, very likely to have high max, and with many local max, relatively volatile\n",
    "# passband 5, some chance to have high max, and lox min, with many local max, relatively volatile\n",
    "# for i in all_90.object_id.unique():\n",
    "#     if mytrain_2[(mytrain_2['object_id']==i) & (mytrain_2['passband']==1)]['flux'].max()>200:\n",
    "#         print(i)\n",
    "#     print(mytrain_2[(mytrain_2['object_id']==i) & (mytrain_2['passband']==2)]['flux'].min())\n",
    "randobj=all_90.object_id.unique()[2]\n",
    "train_randobj_1=mytrain[(mytrain['object_id']==randobj) & (mytrain['passband']==5)]\n",
    "train_randobj_1.head()\n",
    "train_randobj_1.drop(['object_id','passband','flux_err','detected','target'],axis=1).plot(x='mjd',y='flux',kind='scatter')"
   ]
  },
  {
   "cell_type": "code",
   "execution_count": 25,
   "metadata": {},
   "outputs": [
    {
     "data": {
      "text/plain": [
       "<matplotlib.axes._subplots.AxesSubplot at 0x10f3348d0>"
      ]
     },
     "execution_count": 25,
     "metadata": {},
     "output_type": "execute_result"
    },
    {
     "data": {
      "image/png": "[encoded data removed]",
      "text/plain": [
       "<Figure size 432x288 with 1 Axes>"
      ]
     },
     "metadata": {
      "needs_background": "light"
     },
     "output_type": "display_data"
    }
   ],
   "source": [
    "\n",
    "train_randobj_1=mytrain[(mytrain['object_id']==615) & (mytrain['passband']==0)]\n",
    "train_randobj_1.head()\n",
    "train_randobj_1.drop(['object_id','passband','flux_err','detected','target'],axis=1).plot(x='mjd',y='flux',kind='scatter')"
   ]
  },
  {
   "cell_type": "code",
   "execution_count": 10,
   "metadata": {},
   "outputs": [],
   "source": [
    "def create_feature_max(timeseries, *args):\n",
    "    passband_max=timeseries.groupby(['object_id','passband'],as_index=False)['flux'].max()\n",
    "    for arg in args:\n",
    "        res=passband_max[passband_max['passband']==arg]\n",
    "        var=\"passband_\"+str(arg)+\"_max\"\n",
    "        res=res.rename(columns={\"flux\":var})\n",
    "        yield res.drop(['passband'],axis=1)\n",
    "# put the passband you want to calculate the max\n",
    "\n",
    "    "
   ]
  },
  {
   "cell_type": "code",
   "execution_count": 11,
   "metadata": {},
   "outputs": [],
   "source": [
    "def create_feature_min(timeseries,*args):\n",
    "    passband_min=timeseries.groupby(['object_id','passband'],as_index=False)['flux'].min()\n",
    "    for arg in args:\n",
    "        res=passband_min[passband_min['passband']==arg]\n",
    "        var=\"passband_\"+str(arg)+\"_min\"\n",
    "        res=res.rename(columns={\"flux\":var})\n",
    "        yield res.drop(['passband'],axis=1)"
   ]
  },
  {
   "cell_type": "code",
   "execution_count": 30,
   "metadata": {
    "scrolled": true
   },
   "outputs": [],
   "source": [
    "def create_feature_quantile(timeseries,quan,*args):\n",
    "    if quan>=0.5:\n",
    "        inter='lower'\n",
    "    else:\n",
    "        inter='higher'\n",
    "    passband_quantile=timeseries.groupby(['object_id','passband'],as_index=False)['flux']\\\n",
    "    .quantile(quan,interpolation=inter).reset_index()\n",
    "    passband_quantile.columns=['object_id','passband','quantile']\n",
    "    passband_quantile['quantile']=passband_quantile['quantile'].round(6)\n",
    "    res_list=[]\n",
    "    for arg in args:\n",
    "        res=passband_quantile[passband_quantile['passband']==arg]\n",
    "        var=\"passband_\"+str(arg)+\"_\"+str(quan*100)+\"quantile\"\n",
    "        res=res.rename(columns={'quantile':var})\n",
    "        yield res.drop(['passband'],axis=1)\n",
    "#         return res.drop(['passband'],axis=1)"
   ]
  },
  {
   "cell_type": "code",
   "execution_count": 46,
   "metadata": {},
   "outputs": [],
   "source": [
    "def create_peak_freq(timeseries, quantile, peak_direction):\n",
    "    col=quantile.columns[1]\n",
    "    passband=int(col.split('_')[1])\n",
    "    objs=timeseries.object_id.unique()\n",
    "    peak_freq=pd.DataFrame(columns=['object_id','peak_freq'])\n",
    "    for obj in objs:\n",
    "        tm=timeseries[(timeseries['object_id']==obj) &(timeseries['passband']==passband)]\n",
    "        quan=quantile.loc[quantile['object_id']==obj,col].reset_index().drop(['index'],axis=1)\n",
    "        quan=quan[col][0]\n",
    "        df=peak_freq_helper(tm,peak_direction,quan)\n",
    "        peak_freq=peak_freq.append(df)\n",
    "    peak_freq=peak_freq.rename(columns={'peak_freq':\"peak_freq_\"+str(passband)+peak_direction})\n",
    "    return peak_freq"
   ]
  },
  {
   "cell_type": "code",
   "execution_count": 7,
   "metadata": {},
   "outputs": [],
   "source": [
    "def create_trend(timeseries):\n",
    "    timeseries=timeseries.sort_values(by=['object_id','passband','mjd'])\n",
    "    col_list=['trend_0','trend_1','trend_2','trend_3','trend_4','trend_5']\n",
    "    df=pd.DataFrame(columns=['object_id','trend_0','trend_1','trend_2','trend_3','trend_4','trend_5'])\n",
    "    for obj in timeseries.object_id.unique():\n",
    "        df=df.append({'object_id':obj},ignore_index=True)\n",
    "        ind=len(df)-1\n",
    "        for passband in range(6):\n",
    "            col=col_list[passband]\n",
    "            ary=timeseries[(timeseries['object_id']==obj) & (timeseries['passband']==passband)].reset_index()\n",
    "            ary_len=len(ary)\n",
    "            if(ary_len<=10):\n",
    "                df.iloc[ind][col]=ary.iloc[ary_len-1]['flux']-ary.iloc[0]['flux']\n",
    "            else:\n",
    "                m1=ary.loc[0:4,'flux'].mean()\n",
    "                m2=ary.loc[ary_len-5:ary_len-1,'flux'].mean()\n",
    "                df.iloc[ind][col]=m2-m1\n",
    "    return df"
   ]
  },
  {
   "cell_type": "code",
   "execution_count": 8,
   "metadata": {},
   "outputs": [
    {
     "data": {
      "text/html": [
       "<div>\n",
       "<style scoped>\n",
       "    .dataframe tbody tr th:only-of-type {\n",
       "        vertical-align: middle;\n",
       "    }\n",
       "\n",
       "    .dataframe tbody tr th {\n",
       "        vertical-align: top;\n",
       "    }\n",
       "\n",
       "    .dataframe thead th {\n",
       "        text-align: right;\n",
       "    }\n",
       "</style>\n",
       "<table border=\"1\" class=\"dataframe\">\n",
       "  <thead>\n",
       "    <tr style=\"text-align: right;\">\n",
       "      <th></th>\n",
       "      <th>object_id</th>\n",
       "      <th>trend_0</th>\n",
       "      <th>trend_1</th>\n",
       "      <th>trend_2</th>\n",
       "      <th>trend_3</th>\n",
       "      <th>trend_4</th>\n",
       "      <th>trend_5</th>\n",
       "    </tr>\n",
       "  </thead>\n",
       "  <tbody>\n",
       "    <tr>\n",
       "      <th>0</th>\n",
       "      <td>615.0</td>\n",
       "      <td>76.944602</td>\n",
       "      <td>884.991907</td>\n",
       "      <td>808.042097</td>\n",
       "      <td>629.111646</td>\n",
       "      <td>535.823332</td>\n",
       "      <td>502.060913</td>\n",
       "    </tr>\n",
       "    <tr>\n",
       "      <th>1</th>\n",
       "      <td>713.0</td>\n",
       "      <td>-14.026517</td>\n",
       "      <td>-10.705079</td>\n",
       "      <td>-13.364412</td>\n",
       "      <td>-12.708457</td>\n",
       "      <td>-12.727334</td>\n",
       "      <td>-13.761880</td>\n",
       "    </tr>\n",
       "    <tr>\n",
       "      <th>2</th>\n",
       "      <td>730.0</td>\n",
       "      <td>-0.733872</td>\n",
       "      <td>-0.350320</td>\n",
       "      <td>1.269648</td>\n",
       "      <td>0.545945</td>\n",
       "      <td>0.579404</td>\n",
       "      <td>2.934727</td>\n",
       "    </tr>\n",
       "    <tr>\n",
       "      <th>3</th>\n",
       "      <td>745.0</td>\n",
       "      <td>-1.760693</td>\n",
       "      <td>-1.449271</td>\n",
       "      <td>0.008217</td>\n",
       "      <td>1.249426</td>\n",
       "      <td>0.066508</td>\n",
       "      <td>-1.524419</td>\n",
       "    </tr>\n",
       "    <tr>\n",
       "      <th>4</th>\n",
       "      <td>1124.0</td>\n",
       "      <td>3.109021</td>\n",
       "      <td>3.643625</td>\n",
       "      <td>9.416546</td>\n",
       "      <td>6.981014</td>\n",
       "      <td>9.449737</td>\n",
       "      <td>6.706848</td>\n",
       "    </tr>\n",
       "  </tbody>\n",
       "</table>\n",
       "</div>"
      ],
      "text/plain": [
       "   object_id    trend_0     trend_1     trend_2     trend_3     trend_4  \\\n",
       "0      615.0  76.944602  884.991907  808.042097  629.111646  535.823332   \n",
       "1      713.0 -14.026517  -10.705079  -13.364412  -12.708457  -12.727334   \n",
       "2      730.0  -0.733872   -0.350320    1.269648    0.545945    0.579404   \n",
       "3      745.0  -1.760693   -1.449271    0.008217    1.249426    0.066508   \n",
       "4     1124.0   3.109021    3.643625    9.416546    6.981014    9.449737   \n",
       "\n",
       "      trend_5  \n",
       "0  502.060913  \n",
       "1  -13.761880  \n",
       "2    2.934727  \n",
       "3   -1.524419  \n",
       "4    6.706848  "
      ]
     },
     "execution_count": 8,
     "metadata": {},
     "output_type": "execute_result"
    }
   ],
   "source": [
    "test_trend=create_trend(TS)\n",
    "test_trend.head()"
   ]
  },
  {
   "cell_type": "code",
   "execution_count": 231,
   "metadata": {},
   "outputs": [
    {
     "data": {
      "text/plain": [
       "7848"
      ]
     },
     "execution_count": 231,
     "metadata": {},
     "output_type": "execute_result"
    }
   ],
   "source": [
    "len(test_trend)"
   ]
  },
  {
   "cell_type": "code",
   "execution_count": 20,
   "metadata": {},
   "outputs": [],
   "source": [
    "def create_all_aggs(timeseries):\n",
    "    features = timeseries\n",
    "    gc.enable()\n",
    "\n",
    "# Generate new features\n",
    "    features['flux_ratio_sq'] = np.power(features['flux'] / features['flux_err'], 2.0)\n",
    "    features['flux_by_flux_ratio_sq'] = features['flux'] * features['flux_ratio_sq']\n",
    "\n",
    "    aggs = {\n",
    "    'mjd': ['min', 'max', 'size'],\n",
    "    'passband': ['min', 'max', 'mean', 'median', 'std'],\n",
    "    'flux': ['min', 'max', 'mean', 'median', 'std','skew'],\n",
    "    'flux_err': ['min', 'max', 'mean', 'median', 'std','skew'],\n",
    "    'detected': ['mean'],\n",
    "    'flux_ratio_sq':['sum','skew'],\n",
    "    'flux_by_flux_ratio_sq':['sum','skew'],\n",
    "    }\n",
    "\n",
    "# Rename column names\n",
    "    agg_features = features.groupby(['object_id','passband']).agg(aggs)\n",
    "    new_columns = [k + '_' + agg for k in aggs.keys() for agg in aggs[k]]\n",
    "    agg_features.columns = new_columns\n",
    "\n",
    "# Generate new features \n",
    "    agg_features['mjd_diff'] = agg_features['mjd_max'] - agg_features['mjd_min']\n",
    "    agg_features['flux_diff'] = agg_features['flux_max'] - agg_features['flux_min']\n",
    "    agg_features['flux_dif2'] = (agg_features['flux_max'] - agg_features['flux_min']) / agg_features['flux_mean']\n",
    "    agg_features['flux_w_mean'] = agg_features['flux_by_flux_ratio_sq_sum'] / agg_features['flux_ratio_sq_sum']\n",
    "    agg_features['flux_dif3'] = (agg_features['flux_max'] - agg_features['flux_min']) / agg_features['flux_w_mean']\n",
    "\n",
    "    del agg_features['mjd_max'], agg_features['mjd_min']\n",
    "    del features\n",
    "    gc.collect()\n",
    "    return agg_features"
   ]
  },
  {
   "cell_type": "code",
   "execution_count": 79,
   "metadata": {},
   "outputs": [],
   "source": [
    "def peak_freq_helper(tm,peak_direction,quan):\n",
    "    if peak_direction=='positive':\n",
    "#         keep object_id, mjd, and flux\n",
    "        potential=tm[tm['flux']>=quan].drop(['target','flux_err','detected','time2'],axis=1)\n",
    "    else:\n",
    "        potential=tm[tm['flux']<=quan].drop(['target','flux_err','detected','time2'],axis=1)\n",
    "    obj=tm.object_id.unique()[0]\n",
    "    if(len(tm)==0):\n",
    "        return pd.DataFrame([[obj,0]],columns=['object_id','peak_freq'])\n",
    "    return peak_helper(potential)"
   ]
  },
  {
   "cell_type": "code",
   "execution_count": 80,
   "metadata": {},
   "outputs": [],
   "source": [
    "def peak_helper(potential):\n",
    "    import copy\n",
    "    # object_id, mjd, flux\n",
    "    mat=potential.values\n",
    "    # five days interval for peak\n",
    "    mjd_thre=5\n",
    "    data=[]\n",
    "    if len(mat)==1:\n",
    "        data.append(copy.deepcopy(mat[0]))\n",
    "    else:\n",
    "        for i in range(len(mat)):\n",
    "            if i==0 and mat[i][2]>mat[i+1][2]:\n",
    "                data.append(copy.deepcopy(mat[i]))\n",
    "            elif i==len(mat)-1 and mat[i][2]>mat[i-1][2] and mat[i][1]-data[-1][1]>=mjd_thre:\n",
    "                data.append(copy.deepcopy(mat[i]))\n",
    "            elif i>0 and i<len(mat)-1 and mat[i][2]>mat[i-1][2] and mat[i][2]>mat[i+1][2] \\\n",
    "            and mat[i][1]-data[-1][1]>=mjd_thre:\n",
    "                data.append(copy.deepcopy(mat[i]))\n",
    "#     if(len(mat)==0):\n",
    "#         return pd.DataFrame(None,columns=['object_id','peak_freq'])\n",
    "    res=[[mat[0][0],len(data)]]\n",
    "#     res=[['tempcolumn',len(data)]]\n",
    "    return pd.DataFrame(res,columns=['object_id','peak_freq'])\n",
    "                \n",
    "                "
   ]
  },
  {
   "cell_type": "code",
   "execution_count": 23,
   "metadata": {},
   "outputs": [],
   "source": [
    "def add_features(timeseries,shrink, *args):\n",
    "    idx=timeseries.object_id.unique()\n",
    "    if shrink==None:\n",
    "        shrink=pd.DataFrame()\n",
    "        shrink['object_id']=pd.Series(idx)\n",
    "#     create the new column value\n",
    "    for arg in args:\n",
    "        shrink=shrink.merge(arg,on='object_id',how='inner')\n",
    "    return shrink"
   ]
  },
  {
   "cell_type": "code",
   "execution_count": 46,
   "metadata": {},
   "outputs": [],
   "source": [
    "res1, res2=create_feature_max(mytrain,1,2)\n",
    "res3, res4=create_feature_quantile(mytrain,0.9,1,2)\n",
    "res5=create_peak_freq(mytrain,res1,'positive')\n",
    "shrink_train=add_features(mytrain,None,res1,res2,res3,res4,res5)\n",
    "res1, res2=create_feature_max(myval,1,2)\n",
    "res3, res4=create_feature_quantile(myval,0.9,1,2)\n",
    "res5=create_peak_freq(myval,res1,'positive')\n",
    "shrink_val=add_features(myval,None,res1,res2,res3,res4,res5)"
   ]
  },
  {
   "cell_type": "code",
   "execution_count": 19,
   "metadata": {},
   "outputs": [
    {
     "data": {
      "text/html": [
       "<div>\n",
       "<style scoped>\n",
       "    .dataframe tbody tr th:only-of-type {\n",
       "        vertical-align: middle;\n",
       "    }\n",
       "\n",
       "    .dataframe tbody tr th {\n",
       "        vertical-align: top;\n",
       "    }\n",
       "\n",
       "    .dataframe thead th {\n",
       "        text-align: right;\n",
       "    }\n",
       "</style>\n",
       "<table border=\"1\" class=\"dataframe\">\n",
       "  <thead>\n",
       "    <tr style=\"text-align: right;\">\n",
       "      <th></th>\n",
       "      <th>object_id</th>\n",
       "      <th>target</th>\n",
       "      <th>mjd</th>\n",
       "      <th>passband</th>\n",
       "      <th>flux</th>\n",
       "      <th>flux_err</th>\n",
       "      <th>detected</th>\n",
       "      <th>time2</th>\n",
       "      <th>flux_ratio_sq</th>\n",
       "      <th>flux_by_flux_ratio_sq</th>\n",
       "    </tr>\n",
       "  </thead>\n",
       "  <tbody>\n",
       "    <tr>\n",
       "      <th>0</th>\n",
       "      <td>6987066</td>\n",
       "      <td>90</td>\n",
       "      <td>59607.2485</td>\n",
       "      <td>1</td>\n",
       "      <td>-0.316492</td>\n",
       "      <td>2.777779</td>\n",
       "      <td>0</td>\n",
       "      <td>Fri Jan 28 00:57:50 2022</td>\n",
       "      <td>0.012982</td>\n",
       "      <td>-0.004109</td>\n",
       "    </tr>\n",
       "    <tr>\n",
       "      <th>1</th>\n",
       "      <td>6987066</td>\n",
       "      <td>90</td>\n",
       "      <td>59608.3802</td>\n",
       "      <td>4</td>\n",
       "      <td>9.113014</td>\n",
       "      <td>20.102022</td>\n",
       "      <td>0</td>\n",
       "      <td>Sat Jan 29 04:07:29 2022</td>\n",
       "      <td>0.205516</td>\n",
       "      <td>1.872866</td>\n",
       "    </tr>\n",
       "    <tr>\n",
       "      <th>2</th>\n",
       "      <td>6987066</td>\n",
       "      <td>90</td>\n",
       "      <td>59610.2300</td>\n",
       "      <td>3</td>\n",
       "      <td>0.959905</td>\n",
       "      <td>3.562937</td>\n",
       "      <td>0</td>\n",
       "      <td>Mon Jan 31 00:31:12 2022</td>\n",
       "      <td>0.072584</td>\n",
       "      <td>0.069674</td>\n",
       "    </tr>\n",
       "    <tr>\n",
       "      <th>3</th>\n",
       "      <td>6987066</td>\n",
       "      <td>90</td>\n",
       "      <td>59615.1978</td>\n",
       "      <td>2</td>\n",
       "      <td>-0.888359</td>\n",
       "      <td>3.480564</td>\n",
       "      <td>0</td>\n",
       "      <td>Fri Feb  4 23:44:49 2022</td>\n",
       "      <td>0.065145</td>\n",
       "      <td>-0.057872</td>\n",
       "    </tr>\n",
       "    <tr>\n",
       "      <th>4</th>\n",
       "      <td>6987066</td>\n",
       "      <td>90</td>\n",
       "      <td>59615.3806</td>\n",
       "      <td>4</td>\n",
       "      <td>20.476017</td>\n",
       "      <td>21.249695</td>\n",
       "      <td>0</td>\n",
       "      <td>Sat Feb  5 04:08:03 2022</td>\n",
       "      <td>0.928508</td>\n",
       "      <td>19.012142</td>\n",
       "    </tr>\n",
       "  </tbody>\n",
       "</table>\n",
       "</div>"
      ],
      "text/plain": [
       "  object_id target         mjd  passband       flux   flux_err  detected  \\\n",
       "0   6987066     90  59607.2485         1  -0.316492   2.777779         0   \n",
       "1   6987066     90  59608.3802         4   9.113014  20.102022         0   \n",
       "2   6987066     90  59610.2300         3   0.959905   3.562937         0   \n",
       "3   6987066     90  59615.1978         2  -0.888359   3.480564         0   \n",
       "4   6987066     90  59615.3806         4  20.476017  21.249695         0   \n",
       "\n",
       "                      time2  flux_ratio_sq  flux_by_flux_ratio_sq  \n",
       "0  Fri Jan 28 00:57:50 2022       0.012982              -0.004109  \n",
       "1  Sat Jan 29 04:07:29 2022       0.205516               1.872866  \n",
       "2  Mon Jan 31 00:31:12 2022       0.072584               0.069674  \n",
       "3  Fri Feb  4 23:44:49 2022       0.065145              -0.057872  \n",
       "4  Sat Feb  5 04:08:03 2022       0.928508              19.012142  "
      ]
     },
     "execution_count": 19,
     "metadata": {},
     "output_type": "execute_result"
    }
   ],
   "source": [
    "mytrain.head()"
   ]
  },
  {
   "cell_type": "code",
   "execution_count": 83,
   "metadata": {},
   "outputs": [],
   "source": [
    "res1=create_all_aggs(mytrain)\n",
    "res1['object_id']=res1.index\n",
    "res2,res3,res4,res5,res6,res7=create_feature_quantile(mytrain,0.9,0,1,2,3,4,5)\n",
    "res2=create_peak_freq(mytrain,res2,'positive')\n",
    "res3=create_peak_freq(mytrain,res3,'positive')\n",
    "res4=create_peak_freq(mytrain,res4,'positive')\n",
    "res5=create_peak_freq(mytrain,res5,'positive')\n",
    "res6=create_peak_freq(mytrain,res6,'positive')\n",
    "res7=create_peak_freq(mytrain,res7,'positive')\n",
    "res8,res9,res10,res11,res12,res13=create_feature_quantile(mytrain,0.1,0,1,2,3,4,5)\n",
    "res8=create_peak_freq(mytrain,res8,'negative')\n",
    "res9=create_peak_freq(mytrain,res9,'negative')\n",
    "res10=create_peak_freq(mytrain,res10,'negative')\n",
    "res11=create_peak_freq(mytrain,res11,'negative')\n",
    "res12=create_peak_freq(mytrain,res12,'negative')\n",
    "res13=create_peak_freq(mytrain,res13,'negative')\n",
    "\n",
    "updated_agg = res1.unstack()\n",
    "\n",
    "updated_columns = []\n",
    "for column in list(res1):\n",
    "    for i in range(0,6):\n",
    "        updated_columns.append('passband' + str(i) + '_' + column)\n",
    "\n",
    "updated_agg.columns = updated_columns\n",
    "updated_agg.reset_index(inplace=True)\n",
    "updated_agg.head(3)\n",
    "\n",
    "\n",
    "shrink_train=add_features(mytrain,None,updated_agg,res2,res3,res4,res5,res6,res7,res8,res9,res10,res11,res12,res13)\n",
    "shrink_train=shrink_train.drop(['passband0_object_id','passband1_object_id','passband2_object_id',\\\n",
    "                    'passband3_object_id','passband4_object_id','passband5_object_id'],axis=1)\n",
    "label_train=mytrain.drop_duplicates('object_id').reset_index()\n",
    "label_train=label_train.drop(['index','mjd','passband','flux','flux_err','detected','time2'],axis=1)\n",
    "\n",
    "\n",
    "\n",
    "\n",
    "\n",
    "\n",
    "\n",
    "\n"
   ]
  },
  {
   "cell_type": "code",
   "execution_count": 81,
   "metadata": {},
   "outputs": [],
   "source": [
    "res8,res9=create_feature_quantile(mytrain,0.1,0,1)\n",
    "res8=create_peak_freq(mytrain,res8,'negative')"
   ]
  },
  {
   "cell_type": "code",
   "execution_count": 87,
   "metadata": {},
   "outputs": [],
   "source": [
    "l=187\n",
    "for index, row in shrink_train.iterrows():\n",
    "    if(len(row)!=l):\n",
    "        print(index,row)\n",
    "        break"
   ]
  },
  {
   "cell_type": "code",
   "execution_count": 59,
   "metadata": {},
   "outputs": [],
   "source": [
    "shrink_train=add_features(mytrain,None,updated_agg,res2,res3,res4,res5,res6,res7,res8,res9,res10,res11,res12,res13)"
   ]
  },
  {
   "cell_type": "code",
   "execution_count": 139,
   "metadata": {},
   "outputs": [
    {
     "data": {
      "text/html": [
       "<div>\n",
       "<style scoped>\n",
       "    .dataframe tbody tr th:only-of-type {\n",
       "        vertical-align: middle;\n",
       "    }\n",
       "\n",
       "    .dataframe tbody tr th {\n",
       "        vertical-align: top;\n",
       "    }\n",
       "\n",
       "    .dataframe thead th {\n",
       "        text-align: right;\n",
       "    }\n",
       "</style>\n",
       "<table border=\"1\" class=\"dataframe\">\n",
       "  <thead>\n",
       "    <tr style=\"text-align: right;\">\n",
       "      <th></th>\n",
       "      <th></th>\n",
       "      <th>mjd_size</th>\n",
       "      <th>passband_min</th>\n",
       "      <th>passband_max</th>\n",
       "      <th>passband_mean</th>\n",
       "      <th>passband_median</th>\n",
       "      <th>passband_std</th>\n",
       "      <th>flux_min</th>\n",
       "      <th>flux_max</th>\n",
       "      <th>flux_mean</th>\n",
       "      <th>flux_median</th>\n",
       "      <th>...</th>\n",
       "      <th>flux_ratio_sq_sum</th>\n",
       "      <th>flux_ratio_sq_skew</th>\n",
       "      <th>flux_by_flux_ratio_sq_sum</th>\n",
       "      <th>flux_by_flux_ratio_sq_skew</th>\n",
       "      <th>mjd_diff</th>\n",
       "      <th>flux_diff</th>\n",
       "      <th>flux_dif2</th>\n",
       "      <th>flux_w_mean</th>\n",
       "      <th>flux_dif3</th>\n",
       "      <th>object_id</th>\n",
       "    </tr>\n",
       "    <tr>\n",
       "      <th>object_id</th>\n",
       "      <th>passband</th>\n",
       "      <th></th>\n",
       "      <th></th>\n",
       "      <th></th>\n",
       "      <th></th>\n",
       "      <th></th>\n",
       "      <th></th>\n",
       "      <th></th>\n",
       "      <th></th>\n",
       "      <th></th>\n",
       "      <th></th>\n",
       "      <th></th>\n",
       "      <th></th>\n",
       "      <th></th>\n",
       "      <th></th>\n",
       "      <th></th>\n",
       "      <th></th>\n",
       "      <th></th>\n",
       "      <th></th>\n",
       "      <th></th>\n",
       "      <th></th>\n",
       "      <th></th>\n",
       "    </tr>\n",
       "  </thead>\n",
       "  <tbody>\n",
       "    <tr>\n",
       "      <th rowspan=\"5\" valign=\"top\">615</th>\n",
       "      <th>0</th>\n",
       "      <td>63</td>\n",
       "      <td>0</td>\n",
       "      <td>0</td>\n",
       "      <td>0</td>\n",
       "      <td>0</td>\n",
       "      <td>0.0</td>\n",
       "      <td>-116.913223</td>\n",
       "      <td>125.182808</td>\n",
       "      <td>-3.254554</td>\n",
       "      <td>-10.015225</td>\n",
       "      <td>...</td>\n",
       "      <td>32478.068810</td>\n",
       "      <td>0.438299</td>\n",
       "      <td>-6.263819e+05</td>\n",
       "      <td>-0.213985</td>\n",
       "      <td>797.8763</td>\n",
       "      <td>242.096031</td>\n",
       "      <td>-74.386845</td>\n",
       "      <td>-19.286304</td>\n",
       "      <td>-12.552744</td>\n",
       "      <td>(615, 0)</td>\n",
       "    </tr>\n",
       "    <tr>\n",
       "      <th>1</th>\n",
       "      <td>58</td>\n",
       "      <td>1</td>\n",
       "      <td>1</td>\n",
       "      <td>1</td>\n",
       "      <td>1</td>\n",
       "      <td>0.0</td>\n",
       "      <td>-1100.440063</td>\n",
       "      <td>660.626343</td>\n",
       "      <td>-385.699911</td>\n",
       "      <td>-488.057969</td>\n",
       "      <td>...</td>\n",
       "      <td>891548.338964</td>\n",
       "      <td>-0.395146</td>\n",
       "      <td>-5.626857e+08</td>\n",
       "      <td>-0.069064</td>\n",
       "      <td>873.7530</td>\n",
       "      <td>1761.066406</td>\n",
       "      <td>-4.565898</td>\n",
       "      <td>-631.133088</td>\n",
       "      <td>-2.790325</td>\n",
       "      <td>(615, 1)</td>\n",
       "    </tr>\n",
       "    <tr>\n",
       "      <th>2</th>\n",
       "      <td>58</td>\n",
       "      <td>2</td>\n",
       "      <td>2</td>\n",
       "      <td>2</td>\n",
       "      <td>2</td>\n",
       "      <td>0.0</td>\n",
       "      <td>-681.858887</td>\n",
       "      <td>611.984558</td>\n",
       "      <td>-134.146566</td>\n",
       "      <td>-265.686004</td>\n",
       "      <td>...</td>\n",
       "      <td>957828.409061</td>\n",
       "      <td>-0.510684</td>\n",
       "      <td>-2.058831e+08</td>\n",
       "      <td>0.073857</td>\n",
       "      <td>873.7531</td>\n",
       "      <td>1293.843445</td>\n",
       "      <td>-9.644999</td>\n",
       "      <td>-214.947803</td>\n",
       "      <td>-6.019338</td>\n",
       "      <td>(615, 2)</td>\n",
       "    </tr>\n",
       "    <tr>\n",
       "      <th>3</th>\n",
       "      <td>58</td>\n",
       "      <td>3</td>\n",
       "      <td>3</td>\n",
       "      <td>3</td>\n",
       "      <td>3</td>\n",
       "      <td>0.0</td>\n",
       "      <td>-530.644592</td>\n",
       "      <td>445.737061</td>\n",
       "      <td>-121.103501</td>\n",
       "      <td>-162.170944</td>\n",
       "      <td>...</td>\n",
       "      <td>601877.847087</td>\n",
       "      <td>-0.007647</td>\n",
       "      <td>-1.397955e+08</td>\n",
       "      <td>-0.292343</td>\n",
       "      <td>873.7530</td>\n",
       "      <td>976.381653</td>\n",
       "      <td>-8.062373</td>\n",
       "      <td>-232.265606</td>\n",
       "      <td>-4.203729</td>\n",
       "      <td>(615, 3)</td>\n",
       "    </tr>\n",
       "    <tr>\n",
       "      <th>4</th>\n",
       "      <td>58</td>\n",
       "      <td>4</td>\n",
       "      <td>4</td>\n",
       "      <td>4</td>\n",
       "      <td>4</td>\n",
       "      <td>0.0</td>\n",
       "      <td>-422.184509</td>\n",
       "      <td>381.953735</td>\n",
       "      <td>-55.954592</td>\n",
       "      <td>-103.541366</td>\n",
       "      <td>...</td>\n",
       "      <td>355428.609631</td>\n",
       "      <td>0.152340</td>\n",
       "      <td>-3.975237e+07</td>\n",
       "      <td>-0.274897</td>\n",
       "      <td>873.7572</td>\n",
       "      <td>804.138244</td>\n",
       "      <td>-14.371264</td>\n",
       "      <td>-111.843477</td>\n",
       "      <td>-7.189854</td>\n",
       "      <td>(615, 4)</td>\n",
       "    </tr>\n",
       "  </tbody>\n",
       "</table>\n",
       "<p>5 rows × 29 columns</p>\n",
       "</div>"
      ],
      "text/plain": [
       "                    mjd_size  passband_min  passband_max  passband_mean  \\\n",
       "object_id passband                                                        \n",
       "615       0               63             0             0              0   \n",
       "          1               58             1             1              1   \n",
       "          2               58             2             2              2   \n",
       "          3               58             3             3              3   \n",
       "          4               58             4             4              4   \n",
       "\n",
       "                    passband_median  passband_std     flux_min    flux_max  \\\n",
       "object_id passband                                                           \n",
       "615       0                       0           0.0  -116.913223  125.182808   \n",
       "          1                       1           0.0 -1100.440063  660.626343   \n",
       "          2                       2           0.0  -681.858887  611.984558   \n",
       "          3                       3           0.0  -530.644592  445.737061   \n",
       "          4                       4           0.0  -422.184509  381.953735   \n",
       "\n",
       "                     flux_mean  flux_median    ...      flux_ratio_sq_sum  \\\n",
       "object_id passband                             ...                          \n",
       "615       0          -3.254554   -10.015225    ...           32478.068810   \n",
       "          1        -385.699911  -488.057969    ...          891548.338964   \n",
       "          2        -134.146566  -265.686004    ...          957828.409061   \n",
       "          3        -121.103501  -162.170944    ...          601877.847087   \n",
       "          4         -55.954592  -103.541366    ...          355428.609631   \n",
       "\n",
       "                    flux_ratio_sq_skew  flux_by_flux_ratio_sq_sum  \\\n",
       "object_id passband                                                  \n",
       "615       0                   0.438299              -6.263819e+05   \n",
       "          1                  -0.395146              -5.626857e+08   \n",
       "          2                  -0.510684              -2.058831e+08   \n",
       "          3                  -0.007647              -1.397955e+08   \n",
       "          4                   0.152340              -3.975237e+07   \n",
       "\n",
       "                    flux_by_flux_ratio_sq_skew  mjd_diff    flux_diff  \\\n",
       "object_id passband                                                      \n",
       "615       0                          -0.213985  797.8763   242.096031   \n",
       "          1                          -0.069064  873.7530  1761.066406   \n",
       "          2                           0.073857  873.7531  1293.843445   \n",
       "          3                          -0.292343  873.7530   976.381653   \n",
       "          4                          -0.274897  873.7572   804.138244   \n",
       "\n",
       "                    flux_dif2  flux_w_mean  flux_dif3  object_id  \n",
       "object_id passband                                                \n",
       "615       0        -74.386845   -19.286304 -12.552744   (615, 0)  \n",
       "          1         -4.565898  -631.133088  -2.790325   (615, 1)  \n",
       "          2         -9.644999  -214.947803  -6.019338   (615, 2)  \n",
       "          3         -8.062373  -232.265606  -4.203729   (615, 3)  \n",
       "          4        -14.371264  -111.843477  -7.189854   (615, 4)  \n",
       "\n",
       "[5 rows x 29 columns]"
      ]
     },
     "execution_count": 139,
     "metadata": {},
     "output_type": "execute_result"
    }
   ],
   "source": [
    "res1.head()"
   ]
  },
  {
   "cell_type": "code",
   "execution_count": 88,
   "metadata": {},
   "outputs": [],
   "source": [
    "res1=create_all_aggs(myval)\n",
    "res1['object_id']=res1.index\n",
    "res2,res3,res4,res5,res6,res7=create_feature_quantile(myval,0.9,0,1,2,3,4,5)\n",
    "res2=create_peak_freq(myval,res2,'positive')\n",
    "res3=create_peak_freq(myval,res3,'positive')\n",
    "res4=create_peak_freq(myval,res4,'positive')\n",
    "res5=create_peak_freq(myval,res5,'positive')\n",
    "res6=create_peak_freq(myval,res6,'positive')\n",
    "res7=create_peak_freq(myval,res7,'positive')\n",
    "res8,res9,res10,res11,res12,res13=create_feature_quantile(myval,0.1,0,1,2,3,4,5)\n",
    "res8=create_peak_freq(myval,res8,'negative')\n",
    "res9=create_peak_freq(myval,res9,'negative')\n",
    "res10=create_peak_freq(myval,res10,'negative')\n",
    "res11=create_peak_freq(myval,res11,'negative')\n",
    "res12=create_peak_freq(myval,res12,'negative')\n",
    "res13=create_peak_freq(myval,res13,'negative')\n",
    "\n",
    "updated_agg = res1.unstack()\n",
    "updated_columns = []\n",
    "for column in list(res1):\n",
    "    for i in range(0,6):\n",
    "        updated_columns.append('passband' + str(i) + '_' + column)\n",
    "\n",
    "updated_agg.columns = updated_columns\n",
    "updated_agg.reset_index(inplace=True)\n",
    "updated_agg.head(3)\n",
    "\n",
    "\n",
    "shrink_val=add_features(myval,None,updated_agg,res2,res3,res4,res5,res6,res7,res8,res9,res10,res11,res12,res13)\n",
    "shrink_val=shrink_val.drop(['passband0_object_id','passband1_object_id','passband2_object_id',\\\n",
    "                    'passband3_object_id','passband4_object_id','passband5_object_id'],axis=1)\n",
    "\n",
    "label_val=myval.drop_duplicates('object_id').reset_index()\n",
    "label_val=label_val.drop(['index','mjd','passband','flux','flux_err','detected','time2'],axis=1)"
   ]
  },
  {
   "cell_type": "code",
   "execution_count": 26,
   "metadata": {},
   "outputs": [],
   "source": [
    "def transfrom_to_logistic_form(data,label,tar):\n",
    "    data=pd.merge(data,label,how='inner',on=['object_id'])\n",
    "    data['final_target']=[1 if x==tar else 0 for x in data['target']]\n",
    "    data=data.drop(['target'],axis=1)\n",
    "    data=data.rename(columns={\"final_target\":\"target\"})\n",
    "    data=data.dropna()\n",
    "    X=data.drop(['target','object_id'],axis=1)\n",
    "    Y=data.loc[:,'target']\n",
    "    return X,Y"
   ]
  },
  {
   "cell_type": "code",
   "execution_count": 190,
   "metadata": {},
   "outputs": [],
   "source": [
    "X,Y=transfrom_to_logistic_form(shrink_train,label_train,90)\n",
    "X_val,Y_val=transfrom_to_logistic_form(shrink_val,label_val,90)\n",
    "\n",
    "# X=X.values\n",
    "# X=np.mat(X)\n",
    "# Y=Y.values\n",
    "# Y=np.mat(Y)\n",
    "# X_val=X_val.values\n",
    "# X_val=np.mat(X_val)\n",
    "# Y_val=Y_val.values"
   ]
  },
  {
   "cell_type": "code",
   "execution_count": 165,
   "metadata": {},
   "outputs": [],
   "source": [
    "X,Y=transfrom_to_logistic_form(shrink_train2,label_train,90)\n"
   ]
  },
  {
   "cell_type": "code",
   "execution_count": 191,
   "metadata": {},
   "outputs": [
    {
     "data": {
      "text/plain": [
       "0.5440220602718141"
      ]
     },
     "execution_count": 191,
     "metadata": {},
     "output_type": "execute_result"
    }
   ],
   "source": [
    "clf = LogisticRegression(random_state=0, solver='lbfgs',multi_class='multinomial').fit(X, Y)\n",
    "# clf.score(X,Y)\n",
    "clf.score(X_val,Y_val)\n",
    "# clf.predict(X_val)"
   ]
  },
  {
   "cell_type": "code",
   "execution_count": 195,
   "metadata": {},
   "outputs": [
    {
     "name": "stderr",
     "output_type": "stream",
     "text": [
      "/usr/local/lib/python3.6/site-packages/sklearn/ensemble/forest.py:248: FutureWarning: The default value of n_estimators will change from 10 in version 0.20 to 100 in 0.22.\n",
      "  \"10 in version 0.20 to 100 in 0.22.\", FutureWarning)\n"
     ]
    },
    {
     "data": {
      "text/plain": [
       "0.7051408311995273"
      ]
     },
     "execution_count": 195,
     "metadata": {},
     "output_type": "execute_result"
    }
   ],
   "source": [
    "from sklearn.ensemble import RandomForestClassifier\n",
    "clf = RandomForestClassifier(max_depth=10,random_state=0).fit(X, Y)\n",
    "clf.score(X_val,Y_val)"
   ]
  },
  {
   "cell_type": "markdown",
   "metadata": {},
   "source": [
    "# Try the Phaze Regression"
   ]
  },
  {
   "cell_type": "code",
   "execution_count": 111,
   "metadata": {},
   "outputs": [],
   "source": [
    "X=mytrain[(mytrain['passband']==0) &(mytrain['object_id']==615)].copy()\n",
    "Y=mytrain[(mytrain['target']==90) & (mytrain['passband']==0)].copy()"
   ]
  },
  {
   "cell_type": "code",
   "execution_count": 112,
   "metadata": {},
   "outputs": [
    {
     "data": {
      "text/html": [
       "<div>\n",
       "<style scoped>\n",
       "    .dataframe tbody tr th:only-of-type {\n",
       "        vertical-align: middle;\n",
       "    }\n",
       "\n",
       "    .dataframe tbody tr th {\n",
       "        vertical-align: top;\n",
       "    }\n",
       "\n",
       "    .dataframe thead th {\n",
       "        text-align: right;\n",
       "    }\n",
       "</style>\n",
       "<table border=\"1\" class=\"dataframe\">\n",
       "  <thead>\n",
       "    <tr style=\"text-align: right;\">\n",
       "      <th></th>\n",
       "      <th>object_id</th>\n",
       "      <th>target</th>\n",
       "      <th>mjd</th>\n",
       "      <th>passband</th>\n",
       "      <th>flux</th>\n",
       "      <th>flux_err</th>\n",
       "      <th>detected</th>\n",
       "      <th>mjd2</th>\n",
       "      <th>time2</th>\n",
       "    </tr>\n",
       "  </thead>\n",
       "  <tbody>\n",
       "    <tr>\n",
       "      <th>326359</th>\n",
       "      <td>615</td>\n",
       "      <td>92</td>\n",
       "      <td>59819.1532</td>\n",
       "      <td>0</td>\n",
       "      <td>6.878784</td>\n",
       "      <td>3.633152</td>\n",
       "      <td>0</td>\n",
       "      <td>0.531386</td>\n",
       "      <td>Sat Aug 27 23:40:36 2022</td>\n",
       "    </tr>\n",
       "    <tr>\n",
       "      <th>326360</th>\n",
       "      <td>615</td>\n",
       "      <td>92</td>\n",
       "      <td>59820.1047</td>\n",
       "      <td>0</td>\n",
       "      <td>39.364853</td>\n",
       "      <td>3.775619</td>\n",
       "      <td>1</td>\n",
       "      <td>0.463557</td>\n",
       "      <td>Sun Aug 28 22:30:46 2022</td>\n",
       "    </tr>\n",
       "    <tr>\n",
       "      <th>326361</th>\n",
       "      <td>615</td>\n",
       "      <td>92</td>\n",
       "      <td>59821.1026</td>\n",
       "      <td>0</td>\n",
       "      <td>-10.422381</td>\n",
       "      <td>4.172683</td>\n",
       "      <td>0</td>\n",
       "      <td>0.538716</td>\n",
       "      <td>Mon Aug 29 22:27:44 2022</td>\n",
       "    </tr>\n",
       "    <tr>\n",
       "      <th>326362</th>\n",
       "      <td>615</td>\n",
       "      <td>92</td>\n",
       "      <td>59822.1105</td>\n",
       "      <td>0</td>\n",
       "      <td>-65.485130</td>\n",
       "      <td>4.362876</td>\n",
       "      <td>1</td>\n",
       "      <td>0.644692</td>\n",
       "      <td>Tue Aug 30 22:39:07 2022</td>\n",
       "    </tr>\n",
       "    <tr>\n",
       "      <th>326363</th>\n",
       "      <td>615</td>\n",
       "      <td>92</td>\n",
       "      <td>59823.1505</td>\n",
       "      <td>0</td>\n",
       "      <td>-113.349159</td>\n",
       "      <td>4.069051</td>\n",
       "      <td>1</td>\n",
       "      <td>0.849588</td>\n",
       "      <td>Wed Aug 31 23:36:43 2022</td>\n",
       "    </tr>\n",
       "  </tbody>\n",
       "</table>\n",
       "</div>"
      ],
      "text/plain": [
       "       object_id target         mjd  passband        flux  flux_err  detected  \\\n",
       "326359       615     92  59819.1532         0    6.878784  3.633152         0   \n",
       "326360       615     92  59820.1047         0   39.364853  3.775619         1   \n",
       "326361       615     92  59821.1026         0  -10.422381  4.172683         0   \n",
       "326362       615     92  59822.1105         0  -65.485130  4.362876         1   \n",
       "326363       615     92  59823.1505         0 -113.349159  4.069051         1   \n",
       "\n",
       "            mjd2                     time2  \n",
       "326359  0.531386  Sat Aug 27 23:40:36 2022  \n",
       "326360  0.463557  Sun Aug 28 22:30:46 2022  \n",
       "326361  0.538716  Mon Aug 29 22:27:44 2022  \n",
       "326362  0.644692  Tue Aug 30 22:39:07 2022  \n",
       "326363  0.849588  Wed Aug 31 23:36:43 2022  "
      ]
     },
     "execution_count": 112,
     "metadata": {},
     "output_type": "execute_result"
    }
   ],
   "source": [
    "X.head()"
   ]
  },
  {
   "cell_type": "code",
   "execution_count": 113,
   "metadata": {},
   "outputs": [],
   "source": [
    "X=X.drop(['object_id','target','mjd','passband','flux_err','detected','time2'],axis=1)"
   ]
  },
  {
   "cell_type": "code",
   "execution_count": 114,
   "metadata": {},
   "outputs": [],
   "source": [
    "flux=X['flux'].reset_index()\n",
    "flux=flux.drop(['index'],axis=1)"
   ]
  },
  {
   "cell_type": "code",
   "execution_count": 115,
   "metadata": {},
   "outputs": [],
   "source": [
    "mean=flux['flux'].mean()\n",
    "std=flux['flux'].std()"
   ]
  },
  {
   "cell_type": "code",
   "execution_count": 116,
   "metadata": {},
   "outputs": [],
   "source": [
    "def normalise(ts):\n",
    "    return (ts - ts.mean()) / ts.std()"
   ]
  },
  {
   "cell_type": "code",
   "execution_count": 117,
   "metadata": {},
   "outputs": [],
   "source": [
    "flux=flux.apply(lambda x: (x-mean)/std).values\n",
    "mjd2=X['mjd2']\n",
    "mjd2=mjd2.reset_index().drop(['index'],axis=1)\n",
    "plt.scatter(mjd2,flux)"
   ]
  },
  {
   "cell_type": "code",
   "execution_count": null,
   "metadata": {},
   "outputs": [],
   "source": []
  },
  {
   "cell_type": "code",
   "execution_count": 7,
   "metadata": {},
   "outputs": [],
   "source": [
    "X=mytrain[(mytrain['passband']==0) &(mytrain['target']==90)].copy()\n",
    "Y=mytrain[(mytrain['target']==90) & (mytrain['passband']==0)].copy()"
   ]
  },
  {
   "cell_type": "code",
   "execution_count": 8,
   "metadata": {},
   "outputs": [],
   "source": [
    "def create_more_flux(X):\n",
    "    X['mjd2^0.5']=X[['mjd2']].apply(np.sqrt)\n",
    "    X['mjd2^2']=X['mjd2']**2\n",
    "    X['mjd2^3']=X['mjd2']**3\n",
    "    X['mjd2^4']=X['mjd2']**4\n",
    "    X['mjd2_log']=X[['mjd2']].apply(np.log)\n",
    "    return X.drop(['object_id','target','mjd','passband','flux','flux_err','detected','time2'],axis=1)"
   ]
  },
  {
   "cell_type": "code",
   "execution_count": 9,
   "metadata": {},
   "outputs": [],
   "source": [
    "X=create_more_flux(X)\n",
    "Y=Y.drop(['object_id','target','mjd','passband','flux_err','detected','time2','mjd2'],axis=1)"
   ]
  },
  {
   "cell_type": "code",
   "execution_count": 10,
   "metadata": {},
   "outputs": [],
   "source": [
    "X=X.values\n",
    "X=np.mat(X)\n",
    "Y=Y.values"
   ]
  },
  {
   "cell_type": "code",
   "execution_count": 11,
   "metadata": {},
   "outputs": [
    {
     "name": "stderr",
     "output_type": "stream",
     "text": [
      "/usr/local/lib/python3.6/site-packages/sklearn/linear_model/base.py:485: RuntimeWarning: internal gelsd driver lwork query error, required iwork dimension not returned. This is likely the result of LAPACK bug 0038, fixed in LAPACK 3.2.2 (released July 21, 2010). Falling back to 'gelss' driver.\n",
      "  linalg.lstsq(X, y)\n"
     ]
    }
   ],
   "source": [
    "lm = LinearRegression().fit(X, Y)"
   ]
  },
  {
   "cell_type": "code",
   "execution_count": 12,
   "metadata": {},
   "outputs": [
    {
     "name": "stdout",
     "output_type": "stream",
     "text": [
      "   Coefficients  Standard Errors  t values  Probabilites\n",
      "0        3.2897           28.290     0.116         0.907\n",
      "1      -95.7721          188.981    -0.507         0.612\n",
      "2       23.4564          113.113     0.207         0.836\n",
      "3      254.1488          272.428     0.933         0.351\n",
      "4     -327.1622          282.442    -1.158         0.247\n",
      "5      148.4126          115.097     1.289         0.197\n",
      "6        0.3649            3.943     0.093         0.926\n"
     ]
    }
   ],
   "source": [
    "import pandas as pd\n",
    "import numpy as np\n",
    "from sklearn import datasets, linear_model\n",
    "from sklearn.linear_model import LinearRegression\n",
    "import statsmodels.api as sm\n",
    "from scipy import stats\n",
    "params = np.append(lm.intercept_,lm.coef_)\n",
    "predictions = lm.predict(X)\n",
    "\n",
    "newX = pd.DataFrame({\"Constant\":np.ones(len(X))}).join(pd.DataFrame(X))\n",
    "MSE = (sum((Y-predictions)**2))/(len(newX)-len(newX.columns))\n",
    "\n",
    "# Note if you don't want to use a DataFrame replace the two lines above with\n",
    "# newX = np.append(np.ones((len(X),1)), X, axis=1)\n",
    "# MSE = (sum((y-predictions)**2))/(len(newX)-len(newX[0]))\n",
    "\n",
    "var_b = MSE*(np.linalg.inv(np.dot(newX.T,newX)).diagonal())\n",
    "sd_b = np.sqrt(var_b)\n",
    "ts_b = params/ sd_b\n",
    "\n",
    "p_values =[2*(1-stats.t.cdf(np.abs(i),(len(newX)-1))) for i in ts_b]\n",
    "\n",
    "sd_b = np.round(sd_b,3)\n",
    "ts_b = np.round(ts_b,3)\n",
    "p_values = np.round(p_values,3)\n",
    "params = np.round(params,4)\n",
    "\n",
    "myDF3 = pd.DataFrame()\n",
    "myDF3[\"Coefficients\"],myDF3[\"Standard Errors\"],myDF3[\"t values\"],myDF3[\"Probabilites\"] = [params,sd_b,ts_b,p_values]\n",
    "print(myDF3)"
   ]
  },
  {
   "cell_type": "code",
   "execution_count": null,
   "metadata": {},
   "outputs": [],
   "source": []
  },
  {
   "cell_type": "code",
   "execution_count": null,
   "metadata": {},
   "outputs": [],
   "source": []
  },
  {
   "cell_type": "markdown",
   "metadata": {},
   "source": [
    "### Binary and Multiclassification by Nathan"
   ]
  },
  {
   "cell_type": "code",
   "execution_count": 238,
   "metadata": {},
   "outputs": [],
   "source": [
    "# allshrink=shrink_train.append(shrink_val,ignore_index=True)\n",
    "# allshrink=allshrink.fillna(0)\n",
    "# alllabel=label_train.append(label_val)\n",
    "# alllabel=alllabel.drop(['object_id','flux_ratio_sq','flux_by_flux_ratio_sq'],axis=1)"
   ]
  },
  {
   "cell_type": "code",
   "execution_count": 92,
   "metadata": {},
   "outputs": [],
   "source": [
    "allshrink=pd.merge(allshrink,test_trend,how='inner',on='object_id')"
   ]
  },
  {
   "cell_type": "code",
   "execution_count": 93,
   "metadata": {},
   "outputs": [],
   "source": [
    "from sklearn.utils import shuffle\n",
    "# allshrink, alllabel=shuffle(allshrink,alllabel,random_state=2)\n",
    "sss = StratifiedShuffleSplit(n_splits=1, test_size=0.3, random_state=0)\n",
    "sss.get_n_splits(allshrink, alllabel)\n",
    "\n",
    "for train_index,test_index in sss.split(allshrink,alllabel):\n",
    "    allshrink_train, allshrink_val = allshrink.iloc[train_index], allshrink.iloc[test_index]\n",
    "    alllabel_train, alllabel_val = alllabel.iloc[train_index], alllabel.iloc[test_index]\n",
    "# del allshrink_train['object_id']\n",
    "# del allshrink_val['object_id']"
   ]
  },
  {
   "cell_type": "code",
   "execution_count": 12,
   "metadata": {},
   "outputs": [],
   "source": [
    "allshrink_train=allshrink.iloc[0:5232]\n",
    "alllabel_train=alllabel.iloc[0:5232]"
   ]
  },
  {
   "cell_type": "code",
   "execution_count": 13,
   "metadata": {},
   "outputs": [],
   "source": [
    "allshrink_val=allshrink.iloc[5233:7848]\n",
    "alllabel_val=alllabel.iloc[5233:7848]"
   ]
  },
  {
   "cell_type": "code",
   "execution_count": 14,
   "metadata": {},
   "outputs": [],
   "source": [
    "alllabel_train=alllabel_train['target'].apply(str)\n",
    "alllabel_val=alllabel_val['target'].apply(str)"
   ]
  },
  {
   "cell_type": "code",
   "execution_count": 81,
   "metadata": {},
   "outputs": [
    {
     "name": "stderr",
     "output_type": "stream",
     "text": [
      "/usr/local/lib/python3.6/site-packages/sklearn/ensemble/forest.py:248: FutureWarning: The default value of n_estimators will change from 10 in version 0.20 to 100 in 0.22.\n",
      "  \"10 in version 0.20 to 100 in 0.22.\", FutureWarning)\n",
      "/usr/local/lib/python3.6/site-packages/ipykernel_launcher.py:2: DataConversionWarning: A column-vector y was passed when a 1d array was expected. Please change the shape of y to (n_samples,), for example using ravel().\n",
      "  \n"
     ]
    },
    {
     "data": {
      "text/plain": [
       "0.6522292993630573"
      ]
     },
     "execution_count": 81,
     "metadata": {},
     "output_type": "execute_result"
    }
   ],
   "source": [
    "from sklearn.ensemble import RandomForestClassifier\n",
    "clf = RandomForestClassifier(max_depth=10,random_state=0).fit(allshrink_train, alllabel_train)\n",
    "clf.score(allshrink_val,alllabel_val)"
   ]
  },
  {
   "cell_type": "code",
   "execution_count": 82,
   "metadata": {},
   "outputs": [],
   "source": [
    "pred=clf.predict(allshrink_val)"
   ]
  },
  {
   "cell_type": "code",
   "execution_count": 83,
   "metadata": {},
   "outputs": [],
   "source": [
    "def plot_confusion_matrix(cm, classes,\n",
    "                          normalize=False,\n",
    "                          title='Confusion matrix',\n",
    "                          cmap=plt.cm.Blues):\n",
    "    \"\"\"\n",
    "    This function prints and plots the confusion matrix.\n",
    "    Normalization can be applied by setting `normalize=True`.\n",
    "    \"\"\"\n",
    "    if normalize:\n",
    "        cm = cm.astype('float') / cm.sum(axis=1)[:, np.newaxis]\n",
    "        print(\"Normalized confusion matrix\")\n",
    "    else:\n",
    "        print('Confusion matrix, without normalization')\n",
    "\n",
    "    print(cm)\n",
    "\n",
    "    plt.imshow(cm, interpolation='nearest', cmap=cmap)\n",
    "    plt.title(title)\n",
    "    plt.colorbar()\n",
    "    tick_marks = np.arange(len(classes))\n",
    "    plt.xticks(tick_marks, classes, rotation=45)\n",
    "    plt.yticks(tick_marks, classes)\n",
    "\n",
    "    fmt = '.2f' if normalize else 'd'\n",
    "    thresh = cm.max() / 2.\n",
    "    for i, j in itertools.product(range(cm.shape[0]), range(cm.shape[1])):\n",
    "        plt.text(j, i, format(cm[i, j], fmt),\n",
    "                 horizontalalignment=\"center\",\n",
    "                 color=\"white\" if cm[i, j] > thresh else \"black\",fontsize=6)\n",
    "\n",
    "    plt.ylabel('True label')\n",
    "    plt.xlabel('Predicted label')\n",
    "    plt.tight_layout()"
   ]
  },
  {
   "cell_type": "code",
   "execution_count": 84,
   "metadata": {
    "scrolled": true
   },
   "outputs": [
    {
     "name": "stdout",
     "output_type": "stream",
     "text": [
      "Normalized confusion matrix\n",
      "[[0.4  0.   0.11 0.04 0.   0.07 0.02 0.   0.09 0.   0.07 0.09 0.07 0.04]\n",
      " [0.01 0.54 0.01 0.09 0.   0.   0.02 0.   0.03 0.   0.   0.31 0.   0.  ]\n",
      " [0.   0.   0.97 0.   0.   0.   0.   0.   0.01 0.   0.   0.   0.01 0.  ]\n",
      " [0.01 0.06 0.   0.32 0.   0.   0.03 0.   0.05 0.   0.   0.53 0.   0.01]\n",
      " [0.02 0.   0.   0.22 0.   0.   0.04 0.   0.   0.   0.   0.73 0.   0.  ]\n",
      " [0.22 0.   0.   0.   0.   0.67 0.   0.   0.   0.   0.   0.11 0.   0.  ]\n",
      " [0.01 0.   0.   0.3  0.   0.   0.08 0.   0.01 0.   0.   0.61 0.   0.01]\n",
      " [0.   0.   0.   0.03 0.   0.   0.1  0.   0.35 0.   0.   0.52 0.   0.  ]\n",
      " [0.   0.03 0.01 0.   0.   0.   0.   0.   0.84 0.   0.   0.13 0.   0.  ]\n",
      " [0.   0.   0.   0.11 0.   0.   0.11 0.   0.05 0.   0.   0.73 0.   0.  ]\n",
      " [0.   0.01 0.12 0.02 0.   0.   0.   0.   0.04 0.   0.76 0.05 0.02 0.  ]\n",
      " [0.   0.01 0.   0.04 0.   0.   0.01 0.   0.02 0.   0.   0.92 0.   0.  ]\n",
      " [0.   0.   0.04 0.   0.   0.   0.   0.   0.   0.   0.07 0.   0.89 0.  ]\n",
      " [0.02 0.02 0.02 0.6  0.   0.   0.   0.   0.   0.   0.02 0.19 0.   0.13]]\n"
     ]
    },
    {
     "data": {
      "image/png": "[encoded data removed]",
      "text/plain": [
       "<Figure size 900x600 with 2 Axes>"
      ]
     },
     "metadata": {
      "needs_background": "light"
     },
     "output_type": "display_data"
    }
   ],
   "source": [
    "\n",
    "\n",
    "\n",
    "\n",
    "# Compute confusion matrix\n",
    "cnf_matrix = confusion_matrix(alllabel_val, pred)\n",
    "np.set_printoptions(precision=2)\n",
    "\n",
    "# Plot non-normalized confusion matrix\n",
    "# plt.figure()\n",
    "# plot_confusion_matrix(cnf_matrix, classes=TM.target.unique(),\n",
    "#                       title='Confusion matrix, without normalization')\n",
    "\n",
    "# Plot normalized confusion matrix\n",
    "plt.figure(dpi=150)\n",
    "plot_confusion_matrix(cnf_matrix, classes=TM.target.unique(), normalize=True,\n",
    "                      title='Normalized confusion matrix')\n",
    "\n",
    "# plt.savefig('/Users/Nathan/OneDrive/WPI/CLASS/Machine Learning/Project/randomforest_nathan.png',dpi=150)\n",
    "plt.show()\n"
   ]
  },
  {
   "cell_type": "code",
   "execution_count": 69,
   "metadata": {},
   "outputs": [
    {
     "data": {
      "text/html": [
       "<div>\n",
       "<style scoped>\n",
       "    .dataframe tbody tr th:only-of-type {\n",
       "        vertical-align: middle;\n",
       "    }\n",
       "\n",
       "    .dataframe tbody tr th {\n",
       "        vertical-align: top;\n",
       "    }\n",
       "\n",
       "    .dataframe thead th {\n",
       "        text-align: right;\n",
       "    }\n",
       "</style>\n",
       "<table border=\"1\" class=\"dataframe\">\n",
       "  <thead>\n",
       "    <tr style=\"text-align: right;\">\n",
       "      <th></th>\n",
       "      <th>passband0_mjd_size</th>\n",
       "      <th>passband1_mjd_size</th>\n",
       "      <th>passband2_mjd_size</th>\n",
       "      <th>passband3_mjd_size</th>\n",
       "      <th>passband4_mjd_size</th>\n",
       "      <th>passband5_mjd_size</th>\n",
       "      <th>passband0_passband_min</th>\n",
       "      <th>passband1_passband_min</th>\n",
       "      <th>passband2_passband_min</th>\n",
       "      <th>passband3_passband_min</th>\n",
       "      <th>...</th>\n",
       "      <th>peakfreq_2_negative</th>\n",
       "      <th>peakfreq_3_negative</th>\n",
       "      <th>peakfreq_4_negative</th>\n",
       "      <th>peakfreq_5_negative</th>\n",
       "      <th>trend_0</th>\n",
       "      <th>trend_1</th>\n",
       "      <th>trend_2</th>\n",
       "      <th>trend_3</th>\n",
       "      <th>trend_4</th>\n",
       "      <th>trend_5</th>\n",
       "    </tr>\n",
       "  </thead>\n",
       "  <tbody>\n",
       "    <tr>\n",
       "      <th>0</th>\n",
       "      <td>15</td>\n",
       "      <td>10</td>\n",
       "      <td>22</td>\n",
       "      <td>20</td>\n",
       "      <td>31</td>\n",
       "      <td>39</td>\n",
       "      <td>0</td>\n",
       "      <td>1</td>\n",
       "      <td>2</td>\n",
       "      <td>3</td>\n",
       "      <td>...</td>\n",
       "      <td>0</td>\n",
       "      <td>0</td>\n",
       "      <td>0</td>\n",
       "      <td>0</td>\n",
       "      <td>2.223179</td>\n",
       "      <td>-1.353602</td>\n",
       "      <td>-1.787676</td>\n",
       "      <td>2.821305</td>\n",
       "      <td>-3.498904</td>\n",
       "      <td>16.369928</td>\n",
       "    </tr>\n",
       "    <tr>\n",
       "      <th>1</th>\n",
       "      <td>10</td>\n",
       "      <td>15</td>\n",
       "      <td>19</td>\n",
       "      <td>20</td>\n",
       "      <td>35</td>\n",
       "      <td>38</td>\n",
       "      <td>0</td>\n",
       "      <td>1</td>\n",
       "      <td>2</td>\n",
       "      <td>3</td>\n",
       "      <td>...</td>\n",
       "      <td>0</td>\n",
       "      <td>0</td>\n",
       "      <td>0</td>\n",
       "      <td>0</td>\n",
       "      <td>476.923815</td>\n",
       "      <td>77.507326</td>\n",
       "      <td>65.425958</td>\n",
       "      <td>58.419683</td>\n",
       "      <td>23.462505</td>\n",
       "      <td>24.470505</td>\n",
       "    </tr>\n",
       "    <tr>\n",
       "      <th>2</th>\n",
       "      <td>9</td>\n",
       "      <td>13</td>\n",
       "      <td>24</td>\n",
       "      <td>18</td>\n",
       "      <td>32</td>\n",
       "      <td>40</td>\n",
       "      <td>0</td>\n",
       "      <td>1</td>\n",
       "      <td>2</td>\n",
       "      <td>3</td>\n",
       "      <td>...</td>\n",
       "      <td>0</td>\n",
       "      <td>0</td>\n",
       "      <td>0</td>\n",
       "      <td>0</td>\n",
       "      <td>-42.024112</td>\n",
       "      <td>-6.257982</td>\n",
       "      <td>-26.959207</td>\n",
       "      <td>304.911727</td>\n",
       "      <td>-1.637113</td>\n",
       "      <td>10.919051</td>\n",
       "    </tr>\n",
       "    <tr>\n",
       "      <th>3</th>\n",
       "      <td>72</td>\n",
       "      <td>52</td>\n",
       "      <td>40</td>\n",
       "      <td>51</td>\n",
       "      <td>51</td>\n",
       "      <td>51</td>\n",
       "      <td>0</td>\n",
       "      <td>1</td>\n",
       "      <td>2</td>\n",
       "      <td>3</td>\n",
       "      <td>...</td>\n",
       "      <td>0</td>\n",
       "      <td>0</td>\n",
       "      <td>0</td>\n",
       "      <td>0</td>\n",
       "      <td>-12.615985</td>\n",
       "      <td>20.136205</td>\n",
       "      <td>-225.356765</td>\n",
       "      <td>30.317882</td>\n",
       "      <td>-25.771492</td>\n",
       "      <td>-15.034760</td>\n",
       "    </tr>\n",
       "    <tr>\n",
       "      <th>4</th>\n",
       "      <td>13</td>\n",
       "      <td>12</td>\n",
       "      <td>19</td>\n",
       "      <td>25</td>\n",
       "      <td>32</td>\n",
       "      <td>33</td>\n",
       "      <td>0</td>\n",
       "      <td>1</td>\n",
       "      <td>2</td>\n",
       "      <td>3</td>\n",
       "      <td>...</td>\n",
       "      <td>0</td>\n",
       "      <td>0</td>\n",
       "      <td>0</td>\n",
       "      <td>0</td>\n",
       "      <td>-33.886852</td>\n",
       "      <td>-2.028649</td>\n",
       "      <td>-6.215823</td>\n",
       "      <td>4.003193</td>\n",
       "      <td>22.022912</td>\n",
       "      <td>-6.506414</td>\n",
       "    </tr>\n",
       "  </tbody>\n",
       "</table>\n",
       "<p>5 rows × 186 columns</p>\n",
       "</div>"
      ],
      "text/plain": [
       "   passband0_mjd_size  passband1_mjd_size  passband2_mjd_size  \\\n",
       "0                  15                  10                  22   \n",
       "1                  10                  15                  19   \n",
       "2                   9                  13                  24   \n",
       "3                  72                  52                  40   \n",
       "4                  13                  12                  19   \n",
       "\n",
       "   passband3_mjd_size  passband4_mjd_size  passband5_mjd_size  \\\n",
       "0                  20                  31                  39   \n",
       "1                  20                  35                  38   \n",
       "2                  18                  32                  40   \n",
       "3                  51                  51                  51   \n",
       "4                  25                  32                  33   \n",
       "\n",
       "   passband0_passband_min  passband1_passband_min  passband2_passband_min  \\\n",
       "0                       0                       1                       2   \n",
       "1                       0                       1                       2   \n",
       "2                       0                       1                       2   \n",
       "3                       0                       1                       2   \n",
       "4                       0                       1                       2   \n",
       "\n",
       "   passband3_passband_min    ...      peakfreq_2_negative  \\\n",
       "0                       3    ...                        0   \n",
       "1                       3    ...                        0   \n",
       "2                       3    ...                        0   \n",
       "3                       3    ...                        0   \n",
       "4                       3    ...                        0   \n",
       "\n",
       "   peakfreq_3_negative  peakfreq_4_negative  peakfreq_5_negative     trend_0  \\\n",
       "0                    0                    0                    0    2.223179   \n",
       "1                    0                    0                    0  476.923815   \n",
       "2                    0                    0                    0  -42.024112   \n",
       "3                    0                    0                    0  -12.615985   \n",
       "4                    0                    0                    0  -33.886852   \n",
       "\n",
       "     trend_1     trend_2     trend_3    trend_4    trend_5  \n",
       "0  -1.353602   -1.787676    2.821305  -3.498904  16.369928  \n",
       "1  77.507326   65.425958   58.419683  23.462505  24.470505  \n",
       "2  -6.257982  -26.959207  304.911727  -1.637113  10.919051  \n",
       "3  20.136205 -225.356765   30.317882 -25.771492 -15.034760  \n",
       "4  -2.028649   -6.215823    4.003193  22.022912  -6.506414  \n",
       "\n",
       "[5 rows x 186 columns]"
      ]
     },
     "execution_count": 69,
     "metadata": {},
     "output_type": "execute_result"
    }
   ],
   "source": [
    "allshrink.head()"
   ]
  },
  {
   "cell_type": "code",
   "execution_count": 70,
   "metadata": {},
   "outputs": [],
   "source": [
    "model_dic={}"
   ]
  },
  {
   "cell_type": "code",
   "execution_count": 74,
   "metadata": {},
   "outputs": [],
   "source": [
    "def run_regrssion_allshrink(target):\n",
    "#     train_obj_list, val_obj_list=split_train_validation(TM,0.3,distribution,target)\n",
    "#     allshrink_train=pd.merge(allshrink,train_obj_list,how='inner',on=['object_id'])\n",
    "#     allshrink_val=pd.merge(allshrink,val_obj_list,how='inner',on=['object_id'])\n",
    "#     alllabel_train=allshrink_train[['object_id','target']]\n",
    "#     alllabel_val=allshrink_val[['object_id','target']]\n",
    "#     X,Y=transfrom_to_logistic_form(allshrink_train.drop(['target'],axis=1),alllabel_train,target)\n",
    "#     X_val,Y_val=transfrom_to_logistic_form(allshrink_val.drop(['target'],axis=1),alllabel_val,target)\n",
    "#     alllabel_train=alllabel_train['target'].apply(str)\n",
    "#     alllabel_val=alllabel_val['target'].apply(str)\n",
    "\n",
    "    allshrink2=allshrink.copy()\n",
    "    alllabel2=alllabel.copy()\n",
    "#     allshrink2['final_target']=[1 if x==target else 0 for x in data['target']]\n",
    "    alllabel2['final_target']=[1 if x==target else 0 for x in alllabel2['target']]\n",
    "    alllabel2=alllabel2.drop(['target'],axis=1)\n",
    "    alllabel2=alllabel2.rename(columns={\"final_target\":\"target\"})\n",
    "    \n",
    "    sss = StratifiedShuffleSplit(n_splits=1, test_size=0.3, random_state=0)\n",
    "    sss.get_n_splits(allshrink2, alllabel2)\n",
    "    for train_index,test_index in sss.split(allshrink2,alllabel2):\n",
    "        X, X_val = allshrink2.iloc[train_index], allshrink2.iloc[test_index]\n",
    "        Y, Y_val = alllabel2.iloc[train_index], alllabel2.iloc[test_index]\n",
    "    \n",
    "\n",
    "    clf1 = RandomForestClassifier(max_depth=10,random_state=0).fit(X, Y)\n",
    "    score1=clf1.score(X_val,Y_val)\n",
    "    print('RandomForest for class ', target,': ',score1)\n",
    "    clf2 = LogisticRegression(random_state=0, solver='lbfgs',multi_class='multinomial').fit(X, Y)\n",
    "    score2=clf2.score(X_val,Y_val)\n",
    "    print('Logistic for class ', target,': ',score2)\n",
    "    model_dic[target]={}\n",
    "    if(score1>score2):\n",
    "        model_dic[target]['model']=pickle.dumps(clf1)\n",
    "        model_dic[target]['acc']=score1\n",
    "        \n",
    "        cnf_matrix = confusion_matrix(Y_val, clf1.predict(X_val))\n",
    "        np.set_printoptions(precision=2)\n",
    "        plt.figure(dpi=100)\n",
    "        plot_confusion_matrix(cnf_matrix, classes=Y_val.target.unique(), normalize=True,\n",
    "                      title='Class {}'.format(target))\n",
    "        plt.show()\n",
    "    else:\n",
    "        model_dic[target]['model']=pickle.dumps(clf2)\n",
    "        model_dic[target]['acc']=score2\n",
    "        \n",
    "        cnf_matrix = confusion_matrix(Y_val, clf2.predict(X_val))\n",
    "        np.set_printoptions(precision=2)\n",
    "        plt.figure(dpi=100)\n",
    "        plot_confusion_matrix(cnf_matrix, classes=Y_val.target.unique(), normalize=True,\n",
    "                      title='Class {}'.format(target))\n",
    "        plt.show()"
   ]
  },
  {
   "cell_type": "code",
   "execution_count": 75,
   "metadata": {},
   "outputs": [
    {
     "name": "stderr",
     "output_type": "stream",
     "text": [
      "/usr/local/lib/python3.6/site-packages/sklearn/ensemble/forest.py:248: FutureWarning: The default value of n_estimators will change from 10 in version 0.20 to 100 in 0.22.\n",
      "  \"10 in version 0.20 to 100 in 0.22.\", FutureWarning)\n",
      "/usr/local/lib/python3.6/site-packages/ipykernel_launcher.py:26: DataConversionWarning: A column-vector y was passed when a 1d array was expected. Please change the shape of y to (n_samples,), for example using ravel().\n"
     ]
    },
    {
     "name": "stdout",
     "output_type": "stream",
     "text": [
      "RandomForest for class  92 :  0.9936305732484076\n"
     ]
    },
    {
     "name": "stderr",
     "output_type": "stream",
     "text": [
      "/usr/local/lib/python3.6/site-packages/sklearn/utils/validation.py:752: DataConversionWarning: A column-vector y was passed when a 1d array was expected. Please change the shape of y to (n_samples, ), for example using ravel().\n",
      "  y = column_or_1d(y, warn=True)\n",
      "/usr/local/lib/python3.6/site-packages/sklearn/linear_model/logistic.py:757: ConvergenceWarning: lbfgs failed to converge. Increase the number of iterations.\n",
      "  \"of iterations.\", ConvergenceWarning)\n"
     ]
    },
    {
     "name": "stdout",
     "output_type": "stream",
     "text": [
      "Logistic for class  92 :  0.9282377919320595\n",
      "Normalized confusion matrix\n",
      "[[9.99e-01 8.76e-04]\n",
      " [1.81e-01 8.19e-01]]\n"
     ]
    },
    {
     "data": {
      "image/png": "[encoded data removed]",
      "text/plain": [
       "<Figure size 600x400 with 2 Axes>"
      ]
     },
     "metadata": {
      "needs_background": "light"
     },
     "output_type": "display_data"
    },
    {
     "name": "stderr",
     "output_type": "stream",
     "text": [
      "/usr/local/lib/python3.6/site-packages/sklearn/ensemble/forest.py:248: FutureWarning: The default value of n_estimators will change from 10 in version 0.20 to 100 in 0.22.\n",
      "  \"10 in version 0.20 to 100 in 0.22.\", FutureWarning)\n",
      "/usr/local/lib/python3.6/site-packages/ipykernel_launcher.py:26: DataConversionWarning: A column-vector y was passed when a 1d array was expected. Please change the shape of y to (n_samples,), for example using ravel().\n"
     ]
    },
    {
     "name": "stdout",
     "output_type": "stream",
     "text": [
      "RandomForest for class  88 :  0.9817409766454352\n"
     ]
    },
    {
     "name": "stderr",
     "output_type": "stream",
     "text": [
      "/usr/local/lib/python3.6/site-packages/sklearn/utils/validation.py:752: DataConversionWarning: A column-vector y was passed when a 1d array was expected. Please change the shape of y to (n_samples, ), for example using ravel().\n",
      "  y = column_or_1d(y, warn=True)\n",
      "/usr/local/lib/python3.6/site-packages/sklearn/linear_model/logistic.py:757: ConvergenceWarning: lbfgs failed to converge. Increase the number of iterations.\n",
      "  \"of iterations.\", ConvergenceWarning)\n"
     ]
    },
    {
     "name": "stdout",
     "output_type": "stream",
     "text": [
      "Logistic for class  88 :  0.9507430997876858\n",
      "Normalized confusion matrix\n",
      "[[1.   0.  ]\n",
      " [0.33 0.67]]\n"
     ]
    },
    {
     "data": {
      "image/png": "[encoded data removed]",
      "text/plain": [
       "<Figure size 600x400 with 2 Axes>"
      ]
     },
     "metadata": {
      "needs_background": "light"
     },
     "output_type": "display_data"
    },
    {
     "name": "stderr",
     "output_type": "stream",
     "text": [
      "/usr/local/lib/python3.6/site-packages/sklearn/ensemble/forest.py:248: FutureWarning: The default value of n_estimators will change from 10 in version 0.20 to 100 in 0.22.\n",
      "  \"10 in version 0.20 to 100 in 0.22.\", FutureWarning)\n",
      "/usr/local/lib/python3.6/site-packages/ipykernel_launcher.py:26: DataConversionWarning: A column-vector y was passed when a 1d array was expected. Please change the shape of y to (n_samples,), for example using ravel().\n"
     ]
    },
    {
     "name": "stdout",
     "output_type": "stream",
     "text": [
      "RandomForest for class  42 :  0.8564755838641189\n"
     ]
    },
    {
     "name": "stderr",
     "output_type": "stream",
     "text": [
      "/usr/local/lib/python3.6/site-packages/sklearn/utils/validation.py:752: DataConversionWarning: A column-vector y was passed when a 1d array was expected. Please change the shape of y to (n_samples, ), for example using ravel().\n",
      "  y = column_or_1d(y, warn=True)\n"
     ]
    },
    {
     "name": "stdout",
     "output_type": "stream",
     "text": [
      "Logistic for class  42 :  0.8467091295116773\n",
      "Normalized confusion matrix\n",
      "[[0.99 0.01]\n",
      " [0.88 0.12]]\n"
     ]
    },
    {
     "data": {
      "image/png": "[encoded data removed]",
      "text/plain": [
       "<Figure size 600x400 with 2 Axes>"
      ]
     },
     "metadata": {
      "needs_background": "light"
     },
     "output_type": "display_data"
    },
    {
     "name": "stderr",
     "output_type": "stream",
     "text": [
      "/usr/local/lib/python3.6/site-packages/sklearn/ensemble/forest.py:248: FutureWarning: The default value of n_estimators will change from 10 in version 0.20 to 100 in 0.22.\n",
      "  \"10 in version 0.20 to 100 in 0.22.\", FutureWarning)\n",
      "/usr/local/lib/python3.6/site-packages/ipykernel_launcher.py:26: DataConversionWarning: A column-vector y was passed when a 1d array was expected. Please change the shape of y to (n_samples,), for example using ravel().\n"
     ]
    },
    {
     "name": "stdout",
     "output_type": "stream",
     "text": [
      "RandomForest for class  90 :  0.7983014861995754\n"
     ]
    },
    {
     "name": "stderr",
     "output_type": "stream",
     "text": [
      "/usr/local/lib/python3.6/site-packages/sklearn/utils/validation.py:752: DataConversionWarning: A column-vector y was passed when a 1d array was expected. Please change the shape of y to (n_samples, ), for example using ravel().\n",
      "  y = column_or_1d(y, warn=True)\n"
     ]
    },
    {
     "name": "stdout",
     "output_type": "stream",
     "text": [
      "Logistic for class  90 :  0.700212314225053\n",
      "Normalized confusion matrix\n",
      "[[0.86 0.14]\n",
      " [0.35 0.65]]\n"
     ]
    },
    {
     "data": {
      "image/png": "[encoded data removed]",
      "text/plain": [
       "<Figure size 600x400 with 2 Axes>"
      ]
     },
     "metadata": {
      "needs_background": "light"
     },
     "output_type": "display_data"
    },
    {
     "name": "stderr",
     "output_type": "stream",
     "text": [
      "/usr/local/lib/python3.6/site-packages/sklearn/ensemble/forest.py:248: FutureWarning: The default value of n_estimators will change from 10 in version 0.20 to 100 in 0.22.\n",
      "  \"10 in version 0.20 to 100 in 0.22.\", FutureWarning)\n",
      "/usr/local/lib/python3.6/site-packages/ipykernel_launcher.py:26: DataConversionWarning: A column-vector y was passed when a 1d array was expected. Please change the shape of y to (n_samples,), for example using ravel().\n"
     ]
    },
    {
     "name": "stdout",
     "output_type": "stream",
     "text": [
      "RandomForest for class  65 :  0.9524416135881104\n"
     ]
    },
    {
     "name": "stderr",
     "output_type": "stream",
     "text": [
      "/usr/local/lib/python3.6/site-packages/sklearn/utils/validation.py:752: DataConversionWarning: A column-vector y was passed when a 1d array was expected. Please change the shape of y to (n_samples, ), for example using ravel().\n",
      "  y = column_or_1d(y, warn=True)\n",
      "/usr/local/lib/python3.6/site-packages/sklearn/linear_model/logistic.py:757: ConvergenceWarning: lbfgs failed to converge. Increase the number of iterations.\n",
      "  \"of iterations.\", ConvergenceWarning)\n"
     ]
    },
    {
     "name": "stdout",
     "output_type": "stream",
     "text": [
      "Logistic for class  65 :  0.873036093418259\n",
      "Normalized confusion matrix\n",
      "[[0.99 0.01]\n",
      " [0.34 0.66]]\n"
     ]
    },
    {
     "data": {
      "image/png": "[encoded data removed]",
      "text/plain": [
       "<Figure size 600x400 with 2 Axes>"
      ]
     },
     "metadata": {
      "needs_background": "light"
     },
     "output_type": "display_data"
    },
    {
     "name": "stderr",
     "output_type": "stream",
     "text": [
      "/usr/local/lib/python3.6/site-packages/sklearn/ensemble/forest.py:248: FutureWarning: The default value of n_estimators will change from 10 in version 0.20 to 100 in 0.22.\n",
      "  \"10 in version 0.20 to 100 in 0.22.\", FutureWarning)\n",
      "/usr/local/lib/python3.6/site-packages/ipykernel_launcher.py:26: DataConversionWarning: A column-vector y was passed when a 1d array was expected. Please change the shape of y to (n_samples,), for example using ravel().\n"
     ]
    },
    {
     "name": "stdout",
     "output_type": "stream",
     "text": [
      "RandomForest for class  16 :  0.9881104033970276\n"
     ]
    },
    {
     "name": "stderr",
     "output_type": "stream",
     "text": [
      "/usr/local/lib/python3.6/site-packages/sklearn/utils/validation.py:752: DataConversionWarning: A column-vector y was passed when a 1d array was expected. Please change the shape of y to (n_samples, ), for example using ravel().\n",
      "  y = column_or_1d(y, warn=True)\n",
      "/usr/local/lib/python3.6/site-packages/sklearn/linear_model/logistic.py:757: ConvergenceWarning: lbfgs failed to converge. Increase the number of iterations.\n",
      "  \"of iterations.\", ConvergenceWarning)\n"
     ]
    },
    {
     "name": "stdout",
     "output_type": "stream",
     "text": [
      "Logistic for class  16 :  0.8866242038216561\n",
      "Normalized confusion matrix\n",
      "[[1.   0.  ]\n",
      " [0.08 0.92]]\n"
     ]
    },
    {
     "data": {
      "image/png": "[encoded data removed]",
      "text/plain": [
       "<Figure size 600x400 with 2 Axes>"
      ]
     },
     "metadata": {
      "needs_background": "light"
     },
     "output_type": "display_data"
    },
    {
     "name": "stderr",
     "output_type": "stream",
     "text": [
      "/usr/local/lib/python3.6/site-packages/sklearn/ensemble/forest.py:248: FutureWarning: The default value of n_estimators will change from 10 in version 0.20 to 100 in 0.22.\n",
      "  \"10 in version 0.20 to 100 in 0.22.\", FutureWarning)\n",
      "/usr/local/lib/python3.6/site-packages/ipykernel_launcher.py:26: DataConversionWarning: A column-vector y was passed when a 1d array was expected. Please change the shape of y to (n_samples,), for example using ravel().\n"
     ]
    },
    {
     "name": "stdout",
     "output_type": "stream",
     "text": [
      "RandomForest for class  67 :  0.972823779193206\n"
     ]
    },
    {
     "name": "stderr",
     "output_type": "stream",
     "text": [
      "/usr/local/lib/python3.6/site-packages/sklearn/utils/validation.py:752: DataConversionWarning: A column-vector y was passed when a 1d array was expected. Please change the shape of y to (n_samples, ), for example using ravel().\n",
      "  y = column_or_1d(y, warn=True)\n",
      "/usr/local/lib/python3.6/site-packages/sklearn/linear_model/logistic.py:757: ConvergenceWarning: lbfgs failed to converge. Increase the number of iterations.\n",
      "  \"of iterations.\", ConvergenceWarning)\n"
     ]
    },
    {
     "name": "stdout",
     "output_type": "stream",
     "text": [
      "Logistic for class  67 :  0.9736730360934183\n",
      "Normalized confusion matrix\n",
      "[[1. 0.]\n",
      " [1. 0.]]\n"
     ]
    },
    {
     "data": {
      "image/png": "[encoded data removed]",
      "text/plain": [
       "<Figure size 600x400 with 2 Axes>"
      ]
     },
     "metadata": {
      "needs_background": "light"
     },
     "output_type": "display_data"
    },
    {
     "name": "stderr",
     "output_type": "stream",
     "text": [
      "/usr/local/lib/python3.6/site-packages/sklearn/ensemble/forest.py:248: FutureWarning: The default value of n_estimators will change from 10 in version 0.20 to 100 in 0.22.\n",
      "  \"10 in version 0.20 to 100 in 0.22.\", FutureWarning)\n",
      "/usr/local/lib/python3.6/site-packages/ipykernel_launcher.py:26: DataConversionWarning: A column-vector y was passed when a 1d array was expected. Please change the shape of y to (n_samples,), for example using ravel().\n"
     ]
    },
    {
     "name": "stdout",
     "output_type": "stream",
     "text": [
      "RandomForest for class  95 :  0.9787685774946921\n"
     ]
    },
    {
     "name": "stderr",
     "output_type": "stream",
     "text": [
      "/usr/local/lib/python3.6/site-packages/sklearn/utils/validation.py:752: DataConversionWarning: A column-vector y was passed when a 1d array was expected. Please change the shape of y to (n_samples, ), for example using ravel().\n",
      "  y = column_or_1d(y, warn=True)\n"
     ]
    },
    {
     "name": "stdout",
     "output_type": "stream",
     "text": [
      "Logistic for class  95 :  0.9749469214437367\n",
      "Normalized confusion matrix\n",
      "[[1.   0.  ]\n",
      " [0.94 0.06]]\n"
     ]
    },
    {
     "data": {
      "image/png": "[encoded data removed]",
      "text/plain": [
       "<Figure size 600x400 with 2 Axes>"
      ]
     },
     "metadata": {
      "needs_background": "light"
     },
     "output_type": "display_data"
    },
    {
     "name": "stderr",
     "output_type": "stream",
     "text": [
      "/usr/local/lib/python3.6/site-packages/sklearn/ensemble/forest.py:248: FutureWarning: The default value of n_estimators will change from 10 in version 0.20 to 100 in 0.22.\n",
      "  \"10 in version 0.20 to 100 in 0.22.\", FutureWarning)\n",
      "/usr/local/lib/python3.6/site-packages/ipykernel_launcher.py:26: DataConversionWarning: A column-vector y was passed when a 1d array was expected. Please change the shape of y to (n_samples,), for example using ravel().\n"
     ]
    },
    {
     "name": "stdout",
     "output_type": "stream",
     "text": [
      "RandomForest for class  62 :  0.9380042462845011\n"
     ]
    },
    {
     "name": "stderr",
     "output_type": "stream",
     "text": [
      "/usr/local/lib/python3.6/site-packages/sklearn/utils/validation.py:752: DataConversionWarning: A column-vector y was passed when a 1d array was expected. Please change the shape of y to (n_samples, ), for example using ravel().\n",
      "  y = column_or_1d(y, warn=True)\n",
      "/usr/local/lib/python3.6/site-packages/sklearn/linear_model/logistic.py:757: ConvergenceWarning: lbfgs failed to converge. Increase the number of iterations.\n",
      "  \"of iterations.\", ConvergenceWarning)\n"
     ]
    },
    {
     "name": "stdout",
     "output_type": "stream",
     "text": [
      "Logistic for class  62 :  0.9371549893842888\n",
      "Normalized confusion matrix\n",
      "[[9.99e-01 9.05e-04]\n",
      " [9.93e-01 6.90e-03]]\n"
     ]
    },
    {
     "data": {
      "image/png": "[encoded data removed]",
      "text/plain": [
       "<Figure size 600x400 with 2 Axes>"
      ]
     },
     "metadata": {
      "needs_background": "light"
     },
     "output_type": "display_data"
    },
    {
     "name": "stderr",
     "output_type": "stream",
     "text": [
      "/usr/local/lib/python3.6/site-packages/sklearn/ensemble/forest.py:248: FutureWarning: The default value of n_estimators will change from 10 in version 0.20 to 100 in 0.22.\n",
      "  \"10 in version 0.20 to 100 in 0.22.\", FutureWarning)\n",
      "/usr/local/lib/python3.6/site-packages/ipykernel_launcher.py:26: DataConversionWarning: A column-vector y was passed when a 1d array was expected. Please change the shape of y to (n_samples,), for example using ravel().\n"
     ]
    },
    {
     "name": "stdout",
     "output_type": "stream",
     "text": [
      "RandomForest for class  15 :  0.9554140127388535\n"
     ]
    },
    {
     "name": "stderr",
     "output_type": "stream",
     "text": [
      "/usr/local/lib/python3.6/site-packages/sklearn/utils/validation.py:752: DataConversionWarning: A column-vector y was passed when a 1d array was expected. Please change the shape of y to (n_samples, ), for example using ravel().\n",
      "  y = column_or_1d(y, warn=True)\n"
     ]
    },
    {
     "name": "stdout",
     "output_type": "stream",
     "text": [
      "Logistic for class  15 :  0.9312101910828026\n",
      "Normalized confusion matrix\n",
      "[[0.99 0.01]\n",
      " [0.58 0.42]]\n"
     ]
    },
    {
     "data": {
      "image/png": "[encoded data removed]",
      "text/plain": [
       "<Figure size 600x400 with 2 Axes>"
      ]
     },
     "metadata": {
      "needs_background": "light"
     },
     "output_type": "display_data"
    },
    {
     "name": "stderr",
     "output_type": "stream",
     "text": [
      "/usr/local/lib/python3.6/site-packages/sklearn/ensemble/forest.py:248: FutureWarning: The default value of n_estimators will change from 10 in version 0.20 to 100 in 0.22.\n",
      "  \"10 in version 0.20 to 100 in 0.22.\", FutureWarning)\n",
      "/usr/local/lib/python3.6/site-packages/ipykernel_launcher.py:26: DataConversionWarning: A column-vector y was passed when a 1d array was expected. Please change the shape of y to (n_samples,), for example using ravel().\n"
     ]
    },
    {
     "name": "stdout",
     "output_type": "stream",
     "text": [
      "RandomForest for class  52 :  0.9766454352441614\n"
     ]
    },
    {
     "name": "stderr",
     "output_type": "stream",
     "text": [
      "/usr/local/lib/python3.6/site-packages/sklearn/utils/validation.py:752: DataConversionWarning: A column-vector y was passed when a 1d array was expected. Please change the shape of y to (n_samples, ), for example using ravel().\n",
      "  y = column_or_1d(y, warn=True)\n",
      "/usr/local/lib/python3.6/site-packages/sklearn/linear_model/logistic.py:757: ConvergenceWarning: lbfgs failed to converge. Increase the number of iterations.\n",
      "  \"of iterations.\", ConvergenceWarning)\n"
     ]
    },
    {
     "name": "stdout",
     "output_type": "stream",
     "text": [
      "Logistic for class  52 :  0.975796178343949\n",
      "Normalized confusion matrix\n",
      "[[1. 0.]\n",
      " [1. 0.]]\n"
     ]
    },
    {
     "data": {
      "image/png": "[encoded data removed]",
      "text/plain": [
       "<Figure size 600x400 with 2 Axes>"
      ]
     },
     "metadata": {
      "needs_background": "light"
     },
     "output_type": "display_data"
    },
    {
     "name": "stderr",
     "output_type": "stream",
     "text": [
      "/usr/local/lib/python3.6/site-packages/sklearn/ensemble/forest.py:248: FutureWarning: The default value of n_estimators will change from 10 in version 0.20 to 100 in 0.22.\n",
      "  \"10 in version 0.20 to 100 in 0.22.\", FutureWarning)\n",
      "/usr/local/lib/python3.6/site-packages/ipykernel_launcher.py:26: DataConversionWarning: A column-vector y was passed when a 1d array was expected. Please change the shape of y to (n_samples,), for example using ravel().\n"
     ]
    },
    {
     "name": "stdout",
     "output_type": "stream",
     "text": [
      "RandomForest for class  6 :  0.9830148619957537\n"
     ]
    },
    {
     "name": "stderr",
     "output_type": "stream",
     "text": [
      "/usr/local/lib/python3.6/site-packages/sklearn/utils/validation.py:752: DataConversionWarning: A column-vector y was passed when a 1d array was expected. Please change the shape of y to (n_samples, ), for example using ravel().\n",
      "  y = column_or_1d(y, warn=True)\n",
      "/usr/local/lib/python3.6/site-packages/sklearn/linear_model/logistic.py:757: ConvergenceWarning: lbfgs failed to converge. Increase the number of iterations.\n",
      "  \"of iterations.\", ConvergenceWarning)\n"
     ]
    },
    {
     "name": "stdout",
     "output_type": "stream",
     "text": [
      "Logistic for class  6 :  0.9800424628450106\n",
      "Normalized confusion matrix\n",
      "[[1.   0.  ]\n",
      " [0.82 0.18]]\n"
     ]
    },
    {
     "data": {
      "image/png": "[encoded data removed]",
      "text/plain": [
       "<Figure size 600x400 with 2 Axes>"
      ]
     },
     "metadata": {
      "needs_background": "light"
     },
     "output_type": "display_data"
    },
    {
     "name": "stderr",
     "output_type": "stream",
     "text": [
      "/usr/local/lib/python3.6/site-packages/sklearn/ensemble/forest.py:248: FutureWarning: The default value of n_estimators will change from 10 in version 0.20 to 100 in 0.22.\n",
      "  \"10 in version 0.20 to 100 in 0.22.\", FutureWarning)\n",
      "/usr/local/lib/python3.6/site-packages/ipykernel_launcher.py:26: DataConversionWarning: A column-vector y was passed when a 1d array was expected. Please change the shape of y to (n_samples,), for example using ravel().\n"
     ]
    },
    {
     "name": "stdout",
     "output_type": "stream",
     "text": [
      "RandomForest for class  64 :  0.986411889596603\n"
     ]
    },
    {
     "name": "stderr",
     "output_type": "stream",
     "text": [
      "/usr/local/lib/python3.6/site-packages/sklearn/utils/validation.py:752: DataConversionWarning: A column-vector y was passed when a 1d array was expected. Please change the shape of y to (n_samples, ), for example using ravel().\n",
      "  y = column_or_1d(y, warn=True)\n",
      "/usr/local/lib/python3.6/site-packages/sklearn/linear_model/logistic.py:757: ConvergenceWarning: lbfgs failed to converge. Increase the number of iterations.\n",
      "  \"of iterations.\", ConvergenceWarning)\n"
     ]
    },
    {
     "name": "stdout",
     "output_type": "stream",
     "text": [
      "Logistic for class  64 :  0.9855626326963907\n",
      "Normalized confusion matrix\n",
      "[[1.0e+00 4.3e-04]\n",
      " [1.0e+00 0.0e+00]]\n"
     ]
    },
    {
     "data": {
      "image/png": "[encoded data removed]",
      "text/plain": [
       "<Figure size 600x400 with 2 Axes>"
      ]
     },
     "metadata": {
      "needs_background": "light"
     },
     "output_type": "display_data"
    },
    {
     "name": "stderr",
     "output_type": "stream",
     "text": [
      "/usr/local/lib/python3.6/site-packages/sklearn/ensemble/forest.py:248: FutureWarning: The default value of n_estimators will change from 10 in version 0.20 to 100 in 0.22.\n",
      "  \"10 in version 0.20 to 100 in 0.22.\", FutureWarning)\n",
      "/usr/local/lib/python3.6/site-packages/ipykernel_launcher.py:26: DataConversionWarning: A column-vector y was passed when a 1d array was expected. Please change the shape of y to (n_samples,), for example using ravel().\n"
     ]
    },
    {
     "name": "stdout",
     "output_type": "stream",
     "text": [
      "RandomForest for class  53 :  0.9983014861995754\n"
     ]
    },
    {
     "name": "stderr",
     "output_type": "stream",
     "text": [
      "/usr/local/lib/python3.6/site-packages/sklearn/utils/validation.py:752: DataConversionWarning: A column-vector y was passed when a 1d array was expected. Please change the shape of y to (n_samples, ), for example using ravel().\n",
      "  y = column_or_1d(y, warn=True)\n",
      "/usr/local/lib/python3.6/site-packages/sklearn/linear_model/logistic.py:757: ConvergenceWarning: lbfgs failed to converge. Increase the number of iterations.\n",
      "  \"of iterations.\", ConvergenceWarning)\n"
     ]
    },
    {
     "name": "stdout",
     "output_type": "stream",
     "text": [
      "Logistic for class  53 :  0.9910828025477707\n",
      "Normalized confusion matrix\n",
      "[[1.   0.  ]\n",
      " [0.44 0.56]]\n"
     ]
    },
    {
     "data": {
      "image/png": "[encoded data removed]",
      "text/plain": [
       "<Figure size 600x400 with 2 Axes>"
      ]
     },
     "metadata": {
      "needs_background": "light"
     },
     "output_type": "display_data"
    }
   ],
   "source": [
    "alltheclass=TM.target.unique()\n",
    "for c in alltheclass:\n",
    "    run_regrssion_allshrink(c)"
   ]
  },
  {
   "cell_type": "code",
   "execution_count": 94,
   "metadata": {},
   "outputs": [],
   "source": [
    "binarymodel_list=[16,92,53,65,88,90,15,6,42,95,62,67,52,64]\n",
    "# binary_shrink=allshrink.iloc[5233:7848].copy()\n",
    "binary_shrink=allshrink_val.copy()\n",
    "binary_shrink['predict']=0\n",
    "predict_result=pd.DataFrame()\n",
    "true_result=pd.DataFrame(alllabel_val)"
   ]
  },
  {
   "cell_type": "code",
   "execution_count": null,
   "metadata": {},
   "outputs": [],
   "source": [
    "allshrink"
   ]
  },
  {
   "cell_type": "code",
   "execution_count": 95,
   "metadata": {},
   "outputs": [],
   "source": [
    "for target in binarymodel_list:\n",
    "    clf=pickle.loads(model_dic[target]['model'])\n",
    "    X_val=binary_shrink[binary_shrink['predict']==0]\n",
    "#     print(X_val[:,'object_id'])\n",
    "    predict_sub_result=pd.DataFrame(X_val['object_id'])\n",
    "    X_val=X_val.drop(['object_id','predict'],axis=1)\n",
    "    pred=clf.predict(X_val)\n",
    "    for i in range(len(pred)):\n",
    "        if pred[i]==1:\n",
    "            pred[i]=target\n",
    "    predict_sub_result['predict']=pred\n",
    "    predict_result=predict_result.append(predict_sub_result[predict_sub_result['predict']!=0],ignore_index=True)\n",
    "    # update binary_shrink\n",
    "    for index,row in predict_sub_result.iterrows():\n",
    "        if row['predict']!=0:\n",
    "            obj=row['object_id']\n",
    "            binary_shrink.loc[binary_shrink['object_id']==obj,'predict']=target"
   ]
  },
  {
   "cell_type": "code",
   "execution_count": 96,
   "metadata": {},
   "outputs": [],
   "source": [
    "true_result=TM[['object_id','target']]\n",
    "true_result=pd.merge(true_result,binary_shrink,how='inner',on='object_id')\n"
   ]
  },
  {
   "cell_type": "code",
   "execution_count": 97,
   "metadata": {},
   "outputs": [
    {
     "name": "stdout",
     "output_type": "stream",
     "text": [
      "0.6110892646480535\n"
     ]
    }
   ],
   "source": [
    "acc=0\n",
    "for index, row in true_result.iterrows():\n",
    "    if row['target']==row['predict']:\n",
    "        acc+=1\n",
    "print(acc/2543)"
   ]
  },
  {
   "cell_type": "code",
   "execution_count": 107,
   "metadata": {},
   "outputs": [
    {
     "name": "stdout",
     "output_type": "stream",
     "text": [
      "Normalized confusion matrix\n",
      "[[0.91 0.   0.   0.   0.   0.   0.   0.   0.03 0.   0.   0.06 0.   0.  ]\n",
      " [0.   0.92 0.   0.   0.   0.   0.   0.   0.   0.   0.   0.08 0.   0.  ]\n",
      " [0.   0.   1.   0.   0.   0.   0.   0.   0.   0.   0.   0.   0.   0.  ]\n",
      " [0.   0.03 0.   0.52 0.   0.   0.   0.   0.01 0.   0.   0.45 0.   0.  ]\n",
      " [0.   0.   0.   0.   0.39 0.   0.   0.   0.   0.   0.   0.61 0.   0.  ]\n",
      " [0.   0.   0.   0.   0.   1.   0.   0.   0.   0.   0.   0.   0.   0.  ]\n",
      " [0.   0.   0.   0.07 0.   0.   0.46 0.   0.   0.   0.   0.46 0.   0.  ]\n",
      " [0.   0.   0.   0.   0.   0.   0.   0.94 0.   0.   0.   0.06 0.   0.  ]\n",
      " [0.   0.   0.   0.   0.   0.   0.   0.   1.   0.   0.   0.   0.   0.  ]\n",
      " [0.   0.   0.   0.   0.   0.   0.07 0.   0.   0.   0.   0.93 0.   0.  ]\n",
      " [0.   0.01 0.03 0.   0.   0.   0.   0.   0.   0.   0.95 0.01 0.   0.  ]\n",
      " [0.   0.   0.   0.   0.   0.   0.   0.   0.   0.   0.   1.   0.   0.  ]\n",
      " [0.   0.   0.   0.   0.   0.   0.   0.   0.   0.   0.02 0.   0.98 0.  ]\n",
      " [0.   0.04 0.   0.21 0.   0.   0.   0.   0.   0.   0.   0.   0.   0.75]]\n"
     ]
    },
    {
     "data": {
      "image/png": "[encoded data removed]",
      "text/plain": [
       "<Figure size 900x600 with 2 Axes>"
      ]
     },
     "metadata": {
      "needs_background": "light"
     },
     "output_type": "display_data"
    }
   ],
   "source": [
    "plt.figure(dpi=150)\n",
    "cnf_matrix_binary = confusion_matrix(true_result[true_result['predict']!=0]['target'], true_result[true_result['predict']!=0]['predict'])\n",
    "plot_confusion_matrix(cnf_matrix_binary, classes=true_result.target.unique(), normalize=True,\n",
    "                      title='Binary Iteration')"
   ]
  },
  {
   "cell_type": "code",
   "execution_count": 59,
   "metadata": {},
   "outputs": [
    {
     "name": "stderr",
     "output_type": "stream",
     "text": [
      "/usr/local/lib/python3.6/site-packages/sklearn/ensemble/forest.py:248: FutureWarning: The default value of n_estimators will change from 10 in version 0.20 to 100 in 0.22.\n",
      "  \"10 in version 0.20 to 100 in 0.22.\", FutureWarning)\n"
     ]
    },
    {
     "data": {
      "text/plain": [
       "0.8653926628539546"
      ]
     },
     "execution_count": 59,
     "metadata": {},
     "output_type": "execute_result"
    }
   ],
   "source": [
    "from sklearn.ensemble import RandomForestClassifier\n",
    "clf = RandomForestClassifier(max_depth=10,random_state=0).fit(X, Y)\n",
    "clf.score(X_val,Y_val)"
   ]
  },
  {
   "cell_type": "code",
   "execution_count": 64,
   "metadata": {},
   "outputs": [
    {
     "name": "stderr",
     "output_type": "stream",
     "text": [
      "/usr/local/lib/python3.6/site-packages/sklearn/linear_model/logistic.py:757: ConvergenceWarning: lbfgs failed to converge. Increase the number of iterations.\n",
      "  \"of iterations.\", ConvergenceWarning)\n"
     ]
    },
    {
     "data": {
      "text/plain": [
       "0.9309527130701633"
      ]
     },
     "execution_count": 64,
     "metadata": {},
     "output_type": "execute_result"
    }
   ],
   "source": [
    "clf = LogisticRegression(random_state=0, solver='lbfgs',multi_class='multinomial').fit(X, Y)\n",
    "clf.score(X_val,Y_val)"
   ]
  }
 ],
 "metadata": {
  "kernelspec": {
   "display_name": "Python 3",
   "language": "python",
   "name": "python3"
  },
  "language_info": {
   "codemirror_mode": {
    "name": "ipython",
    "version": 3
   },
   "file_extension": ".py",
   "mimetype": "text/x-python",
   "name": "python",
   "nbconvert_exporter": "python",
   "pygments_lexer": "ipython3",
   "version": "3.6.5"
  }
 },
 "nbformat": 4,
 "nbformat_minor": 2
}
